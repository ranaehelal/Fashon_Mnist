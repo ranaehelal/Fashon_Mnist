{
  "cells": [
    {
      "cell_type": "markdown",
      "metadata": {
        "id": "view-in-github",
        "colab_type": "text"
      },
      "source": [
        "<a href=\"https://colab.research.google.com/github/ranaehelal/Fashon_Mnist/blob/oooppss/FashionMnist.ipynb\" target=\"_parent\"><img src=\"https://colab.research.google.com/assets/colab-badge.svg\" alt=\"Open In Colab\"/></a>"
      ]
    },
    {
      "metadata": {
        "id": "5fb3a7155ac9806a"
      },
      "cell_type": "markdown",
      "source": [
        "### import libraries"
      ],
      "id": "5fb3a7155ac9806a"
    },
    {
      "metadata": {
        "ExecuteTime": {
          "end_time": "2024-12-15T16:29:09.497371Z",
          "start_time": "2024-12-15T16:28:52.339007Z"
        },
        "id": "9c9cac3614c1a344"
      },
      "cell_type": "code",
      "source": [
        "import tensorflow as tf\n",
        "import pandas as pd\n",
        "import numpy as np\n",
        "import matplotlib.pyplot as plt\n",
        "from cvxopt import matrix, solvers\n",
        "from sklearn.datasets import make_blobs\n",
        "\n"
      ],
      "id": "9c9cac3614c1a344",
      "outputs": [],
      "execution_count": 3
    },
    {
      "metadata": {
        "ExecuteTime": {
          "end_time": "2024-12-15T16:29:09.546312Z",
          "start_time": "2024-12-15T16:29:09.499364Z"
        },
        "id": "2bd70c84e7d9545d"
      },
      "cell_type": "code",
      "source": [
        "from tensorflow.keras.models import Sequential\n",
        "from tensorflow.keras.layers import Dense, Flatten, Conv2D, MaxPooling2D,Input"
      ],
      "id": "2bd70c84e7d9545d",
      "outputs": [],
      "execution_count": 4
    },
    {
      "metadata": {
        "id": "387a8326236cb603"
      },
      "cell_type": "markdown",
      "source": [
        "### load data"
      ],
      "id": "387a8326236cb603"
    },
    {
      "metadata": {
        "ExecuteTime": {
          "end_time": "2024-12-15T16:29:09.898970Z",
          "start_time": "2024-12-15T16:29:09.547306Z"
        },
        "id": "13ba18fc1bf91f4"
      },
      "cell_type": "code",
      "source": [
        "data = tf.keras.datasets.fashion_mnist.load_data()\n",
        "(train_images,train_label),(test_images,test_labels)=data"
      ],
      "id": "13ba18fc1bf91f4",
      "outputs": [],
      "execution_count": 5
    },
    {
      "metadata": {
        "id": "f950d09d274e93a4"
      },
      "cell_type": "markdown",
      "source": [
        "#### training set of 60,000 examples and a test set of 10,000 examples."
      ],
      "id": "f950d09d274e93a4"
    },
    {
      "metadata": {
        "ExecuteTime": {
          "end_time": "2024-12-15T16:29:09.904791Z",
          "start_time": "2024-12-15T16:29:09.899966Z"
        },
        "id": "cc411ca8ba65f135",
        "outputId": "4e6b97b9-79d0-4d39-cbce-ffa8e3b41aa7"
      },
      "cell_type": "code",
      "source": [
        "print (test_images.shape)\n",
        "print (test_labels.shape)\n"
      ],
      "id": "cc411ca8ba65f135",
      "outputs": [
        {
          "name": "stdout",
          "output_type": "stream",
          "text": [
            "(10000, 28, 28)\n",
            "(10000,)\n"
          ]
        }
      ],
      "execution_count": null
    },
    {
      "metadata": {
        "ExecuteTime": {
          "end_time": "2024-12-15T16:29:09.916043Z",
          "start_time": "2024-12-15T16:29:09.906788Z"
        },
        "id": "f83b76d5de12ec4e",
        "outputId": "c49d6058-db29-4b03-8e29-512cf805dc60"
      },
      "cell_type": "code",
      "source": [
        "print (train_images.shape)\n",
        "print (train_label.shape)"
      ],
      "id": "f83b76d5de12ec4e",
      "outputs": [
        {
          "name": "stdout",
          "output_type": "stream",
          "text": [
            "(60000, 28, 28)\n",
            "(60000,)\n"
          ]
        }
      ],
      "execution_count": null
    },
    {
      "metadata": {
        "ExecuteTime": {
          "end_time": "2024-12-15T16:29:09.928447Z",
          "start_time": "2024-12-15T16:29:09.917031Z"
        },
        "id": "fd40ebda5f3a1626",
        "outputId": "9e4eece7-e857-4a87-cf14-e55ac927db6d"
      },
      "cell_type": "code",
      "source": [
        "print (train_label[:100])"
      ],
      "id": "fd40ebda5f3a1626",
      "outputs": [
        {
          "name": "stdout",
          "output_type": "stream",
          "text": [
            "[9 0 0 3 0 2 7 2 5 5 0 9 5 5 7 9 1 0 6 4 3 1 4 8 4 3 0 2 4 4 5 3 6 6 0 8 5\n",
            " 2 1 6 6 7 9 5 9 2 7 3 0 3 3 3 7 2 2 6 6 8 3 3 5 0 5 5 0 2 0 0 4 1 3 1 6 3\n",
            " 1 4 4 6 1 9 1 3 5 7 9 7 1 7 9 9 9 3 2 9 3 6 4 1 1 8]\n"
          ]
        }
      ],
      "execution_count": null
    },
    {
      "metadata": {
        "ExecuteTime": {
          "end_time": "2024-12-15T16:29:10.176352Z",
          "start_time": "2024-12-15T16:29:09.929443Z"
        },
        "id": "95edbd8c8d3bd1ed",
        "outputId": "dd46337f-d560-477f-a8cd-83fbb0c9ba43"
      },
      "cell_type": "code",
      "source": [
        "plt.imshow(train_images[0])"
      ],
      "id": "95edbd8c8d3bd1ed",
      "outputs": [
        {
          "data": {
            "text/plain": [
              "<matplotlib.image.AxesImage at 0x21fa070ac30>"
            ]
          },
          "execution_count": 9,
          "metadata": {},
          "output_type": "execute_result"
        },
        {
          "data": {
            "text/plain": [
              "<Figure size 640x480 with 1 Axes>"
            ],
            "image/png": "[encoded data removed]"
          },
          "metadata": {},
          "output_type": "display_data"
        }
      ],
      "execution_count": null
    },
    {
      "metadata": {
        "id": "13df7451c5d4bca1"
      },
      "cell_type": "markdown",
      "source": [
        "### Visualize sample images and their labels\n"
      ],
      "id": "13df7451c5d4bca1"
    },
    {
      "metadata": {
        "ExecuteTime": {
          "end_time": "2024-12-15T16:29:10.181339Z",
          "start_time": "2024-12-15T16:29:10.177350Z"
        },
        "id": "3f1c4b0f74727f29"
      },
      "cell_type": "code",
      "source": [
        "class_names = ['T-shirt/top', 'Trouser', 'Pullover', 'Dress', 'Coat',\n",
        "               'Sandal', 'Shirt', 'Sneaker', 'Bag', 'Ankle boot']\n"
      ],
      "id": "3f1c4b0f74727f29",
      "outputs": [],
      "execution_count": null
    },
    {
      "metadata": {
        "ExecuteTime": {
          "end_time": "2024-12-15T16:29:10.359332Z",
          "start_time": "2024-12-15T16:29:10.182335Z"
        },
        "id": "9ec6a0c88de64d85",
        "outputId": "caab8d78-2dee-41d8-bbd0-64238356c418"
      },
      "cell_type": "code",
      "source": [
        "def plot_image(image, label):\n",
        "    plt.figure(figsize=(6, 6))\n",
        "    plt.imshow(image, cmap='gray')\n",
        "    plt.title(f\"Label: {class_names[label]}\")\n",
        "    plt.colorbar()\n",
        "    plt.axis('off')\n",
        "    plt.show()\n",
        "\n",
        "plot_image(train_images[0], train_label[0])\n"
      ],
      "id": "9ec6a0c88de64d85",
      "outputs": [
        {
          "data": {
            "text/plain": [
              "<Figure size 600x600 with 2 Axes>"
            ],
            "image/png": "[encoded data removed]"
          },
          "metadata": {},
          "output_type": "display_data"
        }
      ],
      "execution_count": null
    },
    {
      "metadata": {
        "id": "73e6919b078b1e9b"
      },
      "cell_type": "markdown",
      "source": [
        "### Visualize 25 Sample Images  \n",
        "A function to display a 5x5 grid of images with labels.\n"
      ],
      "id": "73e6919b078b1e9b"
    },
    {
      "metadata": {
        "ExecuteTime": {
          "end_time": "2024-12-15T16:29:11.401719Z",
          "start_time": "2024-12-15T16:29:10.364313Z"
        },
        "id": "b07326fa341814cf",
        "outputId": "b0f0c2e1-63e5-4e54-c66d-9b2e531e0a54"
      },
      "cell_type": "code",
      "source": [
        "def plot_sample_images(images, labels, class_names):\n",
        "    plt.figure(figsize=(10, 10))\n",
        "    for i in range(25):\n",
        "        plt.subplot(5, 5, i + 1)\n",
        "        plt.imshow(images[i], cmap='gray')\n",
        "        plt.title(class_names[labels[i]])\n",
        "        plt.axis('off')\n",
        "    plt.tight_layout()\n",
        "    plt.show()\n",
        "plot_sample_images(train_images, train_label, class_names)\n"
      ],
      "id": "b07326fa341814cf",
      "outputs": [
        {
          "data": {
            "text/plain": [
              "<Figure size 1000x1000 with 25 Axes>"
            ],
            "image/png": "[encoded data removed]"
          },
          "metadata": {},
          "output_type": "display_data"
        }
      ],
      "execution_count": null
    },
    {
      "metadata": {
        "id": "a350c80cfd86bd3a"
      },
      "cell_type": "markdown",
      "source": [
        "### Visualize Images by Label\n"
      ],
      "id": "a350c80cfd86bd3a"
    },
    {
      "metadata": {
        "ExecuteTime": {
          "end_time": "2024-12-15T16:29:11.409858Z",
          "start_time": "2024-12-15T16:29:11.402714Z"
        },
        "id": "43f50e97ec2644b"
      },
      "cell_type": "code",
      "source": [
        "def plot_label(images, labels, label, filter_function=None):\n",
        "    # Get indices of images with the specified label\n",
        "    label_indices = np.argwhere(labels == label).flatten()\n",
        "    num_images = min(len(label_indices), 10)  # Limit to 10 images\n",
        "\n",
        "    plt.figure(figsize=(14, 8))\n",
        "\n",
        "    for i in range(num_images):\n",
        "        img_idx = label_indices[i]\n",
        "        sample_img = images[img_idx]\n",
        "\n",
        "        if filter_function:\n",
        "            sample_img = filter_function(sample_img)\n",
        "\n",
        "        plt.subplot(1, 10, i + 1)\n",
        "        plt.title(class_names[label])\n",
        "        plt.imshow(sample_img, cmap='gray')\n",
        "        plt.axis('off')\n",
        "\n",
        "    plt.tight_layout()\n",
        "    plt.show()\n"
      ],
      "id": "43f50e97ec2644b",
      "outputs": [],
      "execution_count": null
    },
    {
      "metadata": {
        "ExecuteTime": {
          "end_time": "2024-12-15T16:29:12.098080Z",
          "start_time": "2024-12-15T16:29:11.411852Z"
        },
        "id": "11b7c979e2c93562",
        "outputId": "68f9bed0-0303-4310-df67-8a44b5e366ba"
      },
      "cell_type": "code",
      "source": [
        "# Visualizing images with label 1 (Trouser)\n",
        "plot_label(train_images, train_label, label=1)\n"
      ],
      "id": "11b7c979e2c93562",
      "outputs": [
        {
          "data": {
            "text/plain": [
              "<Figure size 1400x800 with 10 Axes>"
            ],
            "image/png": "[encoded data removed]"
          },
          "metadata": {},
          "output_type": "display_data"
        }
      ],
      "execution_count": null
    },
    {
      "metadata": {
        "id": "862ea361337a07c4"
      },
      "cell_type": "markdown",
      "source": [
        "### Data Preprocessing and Splitting\n",
        "\n",
        "In this section, we preprocess the dataset by normalizing the image pixel values. Each pixel value is scaled to a float between 0 and 1 by dividing by 255.0. This ensures the values are within the range the model expects and helps with convergence during training.\n",
        "\n",
        "Next, we define a function `train_validate_test_split` to split the dataset into training, validation, and test sets. The function accepts the dataset and labels as inputs, along with optional parameters to specify the ratio for the test and validation sets. We use this function to create the training, validation, and test sets, ensuring reproducibility with a fixed random seed.\n",
        "\n",
        "Finally, the shapes of the resulting datasets are printed to verify the splits.\n"
      ],
      "id": "862ea361337a07c4"
    },
    {
      "metadata": {
        "ExecuteTime": {
          "end_time": "2024-12-15T16:29:12.339522Z",
          "start_time": "2024-12-15T16:29:12.100073Z"
        },
        "id": "73aee48ac1b42c96"
      },
      "cell_type": "code",
      "source": [
        "train_images=train_images.astype('float32')/255.0\n",
        "test_images=test_images.astype('float32')/255.0"
      ],
      "id": "73aee48ac1b42c96",
      "outputs": [],
      "execution_count": 6
    },
    {
      "metadata": {
        "id": "a275cd498c39ccff"
      },
      "cell_type": "markdown",
      "source": [],
      "id": "a275cd498c39ccff"
    },
    {
      "metadata": {
        "ExecuteTime": {
          "end_time": "2024-12-15T16:29:12.355184Z",
          "start_time": "2024-12-15T16:29:12.341516Z"
        },
        "id": "df7d133518d5949c",
        "outputId": "5858b7e9-5ffa-4d5a-8442-4ea20070720f"
      },
      "cell_type": "code",
      "source": [
        "train_images[0]"
      ],
      "id": "df7d133518d5949c",
      "outputs": [
        {
          "data": {
            "text/plain": [
              "array([[0.        , 0.        , 0.        , 0.        , 0.        ,\n",
              "        0.        , 0.        , 0.        , 0.        , 0.        ,\n",
              "        0.        , 0.        , 0.        , 0.        , 0.        ,\n",
              "        0.        , 0.        , 0.        , 0.        , 0.        ,\n",
              "        0.        , 0.        , 0.        , 0.        , 0.        ,\n",
              "        0.        , 0.        , 0.        ],\n",
              "       [0.        , 0.        , 0.        , 0.        , 0.        ,\n",
              "        0.        , 0.        , 0.        , 0.        , 0.        ,\n",
              "        0.        , 0.        , 0.        , 0.        , 0.        ,\n",
              "        0.        , 0.        , 0.        , 0.        , 0.        ,\n",
              "        0.        , 0.        , 0.        , 0.        , 0.        ,\n",
              "        0.        , 0.        , 0.        ],\n",
              "       [0.        , 0.        , 0.        , 0.        , 0.        ,\n",
              "        0.        , 0.        , 0.        , 0.        , 0.        ,\n",
              "        0.        , 0.        , 0.        , 0.        , 0.        ,\n",
              "        0.        , 0.        , 0.        , 0.        , 0.        ,\n",
              "        0.        , 0.        , 0.        , 0.        , 0.        ,\n",
              "        0.        , 0.        , 0.        ],\n",
              "       [0.        , 0.        , 0.        , 0.        , 0.        ,\n",
              "        0.        , 0.        , 0.        , 0.        , 0.        ,\n",
              "        0.        , 0.        , 0.00392157, 0.        , 0.        ,\n",
              "        0.05098039, 0.28627452, 0.        , 0.        , 0.00392157,\n",
              "        0.01568628, 0.        , 0.        , 0.        , 0.        ,\n",
              "        0.00392157, 0.00392157, 0.        ],\n",
              "       [0.        , 0.        , 0.        , 0.        , 0.        ,\n",
              "        0.        , 0.        , 0.        , 0.        , 0.        ,\n",
              "        0.        , 0.        , 0.01176471, 0.        , 0.14117648,\n",
              "        0.53333336, 0.49803922, 0.24313726, 0.21176471, 0.        ,\n",
              "        0.        , 0.        , 0.00392157, 0.01176471, 0.01568628,\n",
              "        0.        , 0.        , 0.01176471],\n",
              "       [0.        , 0.        , 0.        , 0.        , 0.        ,\n",
              "        0.        , 0.        , 0.        , 0.        , 0.        ,\n",
              "        0.        , 0.        , 0.02352941, 0.        , 0.4       ,\n",
              "        0.8       , 0.6901961 , 0.5254902 , 0.5647059 , 0.48235294,\n",
              "        0.09019608, 0.        , 0.        , 0.        , 0.        ,\n",
              "        0.04705882, 0.03921569, 0.        ],\n",
              "       [0.        , 0.        , 0.        , 0.        , 0.        ,\n",
              "        0.        , 0.        , 0.        , 0.        , 0.        ,\n",
              "        0.        , 0.        , 0.        , 0.        , 0.60784316,\n",
              "        0.9254902 , 0.8117647 , 0.69803923, 0.41960785, 0.6117647 ,\n",
              "        0.6313726 , 0.42745098, 0.2509804 , 0.09019608, 0.3019608 ,\n",
              "        0.50980395, 0.28235295, 0.05882353],\n",
              "       [0.        , 0.        , 0.        , 0.        , 0.        ,\n",
              "        0.        , 0.        , 0.        , 0.        , 0.        ,\n",
              "        0.        , 0.00392157, 0.        , 0.27058825, 0.8117647 ,\n",
              "        0.8745098 , 0.85490197, 0.84705883, 0.84705883, 0.6392157 ,\n",
              "        0.49803922, 0.4745098 , 0.47843137, 0.57254905, 0.5529412 ,\n",
              "        0.34509805, 0.6745098 , 0.25882354],\n",
              "       [0.        , 0.        , 0.        , 0.        , 0.        ,\n",
              "        0.        , 0.        , 0.        , 0.        , 0.00392157,\n",
              "        0.00392157, 0.00392157, 0.        , 0.78431374, 0.9098039 ,\n",
              "        0.9098039 , 0.9137255 , 0.8980392 , 0.8745098 , 0.8745098 ,\n",
              "        0.84313726, 0.8352941 , 0.6431373 , 0.49803922, 0.48235294,\n",
              "        0.76862746, 0.8980392 , 0.        ],\n",
              "       [0.        , 0.        , 0.        , 0.        , 0.        ,\n",
              "        0.        , 0.        , 0.        , 0.        , 0.        ,\n",
              "        0.        , 0.        , 0.        , 0.7176471 , 0.88235295,\n",
              "        0.84705883, 0.8745098 , 0.89411765, 0.92156863, 0.8901961 ,\n",
              "        0.8784314 , 0.87058824, 0.8784314 , 0.8666667 , 0.8745098 ,\n",
              "        0.9607843 , 0.6784314 , 0.        ],\n",
              "       [0.        , 0.        , 0.        , 0.        , 0.        ,\n",
              "        0.        , 0.        , 0.        , 0.        , 0.        ,\n",
              "        0.        , 0.        , 0.        , 0.75686276, 0.89411765,\n",
              "        0.85490197, 0.8352941 , 0.7764706 , 0.7058824 , 0.83137256,\n",
              "        0.8235294 , 0.827451  , 0.8352941 , 0.8745098 , 0.8627451 ,\n",
              "        0.9529412 , 0.7921569 , 0.        ],\n",
              "       [0.        , 0.        , 0.        , 0.        , 0.        ,\n",
              "        0.        , 0.        , 0.        , 0.        , 0.00392157,\n",
              "        0.01176471, 0.        , 0.04705882, 0.85882354, 0.8627451 ,\n",
              "        0.83137256, 0.85490197, 0.7529412 , 0.6627451 , 0.8901961 ,\n",
              "        0.8156863 , 0.85490197, 0.8784314 , 0.83137256, 0.8862745 ,\n",
              "        0.77254903, 0.81960785, 0.20392157],\n",
              "       [0.        , 0.        , 0.        , 0.        , 0.        ,\n",
              "        0.        , 0.        , 0.        , 0.        , 0.        ,\n",
              "        0.02352941, 0.        , 0.3882353 , 0.95686275, 0.87058824,\n",
              "        0.8627451 , 0.85490197, 0.79607844, 0.7764706 , 0.8666667 ,\n",
              "        0.84313726, 0.8352941 , 0.87058824, 0.8627451 , 0.9607843 ,\n",
              "        0.46666667, 0.654902  , 0.21960784],\n",
              "       [0.        , 0.        , 0.        , 0.        , 0.        ,\n",
              "        0.        , 0.        , 0.        , 0.        , 0.01568628,\n",
              "        0.        , 0.        , 0.21568628, 0.9254902 , 0.89411765,\n",
              "        0.9019608 , 0.89411765, 0.9411765 , 0.9098039 , 0.8352941 ,\n",
              "        0.85490197, 0.8745098 , 0.91764706, 0.8509804 , 0.8509804 ,\n",
              "        0.81960785, 0.36078432, 0.        ],\n",
              "       [0.        , 0.        , 0.00392157, 0.01568628, 0.02352941,\n",
              "        0.02745098, 0.00784314, 0.        , 0.        , 0.        ,\n",
              "        0.        , 0.        , 0.92941177, 0.8862745 , 0.8509804 ,\n",
              "        0.8745098 , 0.87058824, 0.85882354, 0.87058824, 0.8666667 ,\n",
              "        0.84705883, 0.8745098 , 0.8980392 , 0.84313726, 0.85490197,\n",
              "        1.        , 0.3019608 , 0.        ],\n",
              "       [0.        , 0.01176471, 0.        , 0.        , 0.        ,\n",
              "        0.        , 0.        , 0.        , 0.        , 0.24313726,\n",
              "        0.5686275 , 0.8       , 0.89411765, 0.8117647 , 0.8352941 ,\n",
              "        0.8666667 , 0.85490197, 0.8156863 , 0.827451  , 0.85490197,\n",
              "        0.8784314 , 0.8745098 , 0.85882354, 0.84313726, 0.8784314 ,\n",
              "        0.95686275, 0.62352943, 0.        ],\n",
              "       [0.        , 0.        , 0.        , 0.        , 0.07058824,\n",
              "        0.17254902, 0.32156864, 0.41960785, 0.7411765 , 0.89411765,\n",
              "        0.8627451 , 0.87058824, 0.8509804 , 0.8862745 , 0.78431374,\n",
              "        0.8039216 , 0.827451  , 0.9019608 , 0.8784314 , 0.91764706,\n",
              "        0.6901961 , 0.7372549 , 0.98039216, 0.972549  , 0.9137255 ,\n",
              "        0.93333334, 0.84313726, 0.        ],\n",
              "       [0.        , 0.22352941, 0.73333335, 0.8156863 , 0.8784314 ,\n",
              "        0.8666667 , 0.8784314 , 0.8156863 , 0.8       , 0.8392157 ,\n",
              "        0.8156863 , 0.81960785, 0.78431374, 0.62352943, 0.9607843 ,\n",
              "        0.75686276, 0.80784315, 0.8745098 , 1.        , 1.        ,\n",
              "        0.8666667 , 0.91764706, 0.8666667 , 0.827451  , 0.8627451 ,\n",
              "        0.9098039 , 0.9647059 , 0.        ],\n",
              "       [0.01176471, 0.7921569 , 0.89411765, 0.8784314 , 0.8666667 ,\n",
              "        0.827451  , 0.827451  , 0.8392157 , 0.8039216 , 0.8039216 ,\n",
              "        0.8039216 , 0.8627451 , 0.9411765 , 0.3137255 , 0.5882353 ,\n",
              "        1.        , 0.8980392 , 0.8666667 , 0.7372549 , 0.6039216 ,\n",
              "        0.7490196 , 0.8235294 , 0.8       , 0.81960785, 0.87058824,\n",
              "        0.89411765, 0.88235295, 0.        ],\n",
              "       [0.38431373, 0.9137255 , 0.7764706 , 0.8235294 , 0.87058824,\n",
              "        0.8980392 , 0.8980392 , 0.91764706, 0.9764706 , 0.8627451 ,\n",
              "        0.7607843 , 0.84313726, 0.8509804 , 0.94509804, 0.25490198,\n",
              "        0.28627452, 0.41568628, 0.45882353, 0.65882355, 0.85882354,\n",
              "        0.8666667 , 0.84313726, 0.8509804 , 0.8745098 , 0.8745098 ,\n",
              "        0.8784314 , 0.8980392 , 0.11372549],\n",
              "       [0.29411766, 0.8       , 0.83137256, 0.8       , 0.75686276,\n",
              "        0.8039216 , 0.827451  , 0.88235295, 0.84705883, 0.7254902 ,\n",
              "        0.77254903, 0.80784315, 0.7764706 , 0.8352941 , 0.9411765 ,\n",
              "        0.7647059 , 0.8901961 , 0.9607843 , 0.9372549 , 0.8745098 ,\n",
              "        0.85490197, 0.83137256, 0.81960785, 0.87058824, 0.8627451 ,\n",
              "        0.8666667 , 0.9019608 , 0.2627451 ],\n",
              "       [0.1882353 , 0.79607844, 0.7176471 , 0.7607843 , 0.8352941 ,\n",
              "        0.77254903, 0.7254902 , 0.74509805, 0.7607843 , 0.7529412 ,\n",
              "        0.7921569 , 0.8392157 , 0.85882354, 0.8666667 , 0.8627451 ,\n",
              "        0.9254902 , 0.88235295, 0.84705883, 0.78039217, 0.80784315,\n",
              "        0.7294118 , 0.70980394, 0.69411767, 0.6745098 , 0.70980394,\n",
              "        0.8039216 , 0.80784315, 0.4509804 ],\n",
              "       [0.        , 0.47843137, 0.85882354, 0.75686276, 0.7019608 ,\n",
              "        0.67058825, 0.7176471 , 0.76862746, 0.8       , 0.8235294 ,\n",
              "        0.8352941 , 0.8117647 , 0.827451  , 0.8235294 , 0.78431374,\n",
              "        0.76862746, 0.7607843 , 0.7490196 , 0.7647059 , 0.7490196 ,\n",
              "        0.7764706 , 0.7529412 , 0.6901961 , 0.6117647 , 0.654902  ,\n",
              "        0.69411767, 0.8235294 , 0.36078432],\n",
              "       [0.        , 0.        , 0.2901961 , 0.7411765 , 0.83137256,\n",
              "        0.7490196 , 0.6862745 , 0.6745098 , 0.6862745 , 0.70980394,\n",
              "        0.7254902 , 0.7372549 , 0.7411765 , 0.7372549 , 0.75686276,\n",
              "        0.7764706 , 0.8       , 0.81960785, 0.8235294 , 0.8235294 ,\n",
              "        0.827451  , 0.7372549 , 0.7372549 , 0.7607843 , 0.7529412 ,\n",
              "        0.84705883, 0.6666667 , 0.        ],\n",
              "       [0.00784314, 0.        , 0.        , 0.        , 0.25882354,\n",
              "        0.78431374, 0.87058824, 0.92941177, 0.9372549 , 0.9490196 ,\n",
              "        0.9647059 , 0.9529412 , 0.95686275, 0.8666667 , 0.8627451 ,\n",
              "        0.75686276, 0.7490196 , 0.7019608 , 0.7137255 , 0.7137255 ,\n",
              "        0.70980394, 0.6901961 , 0.6509804 , 0.65882355, 0.3882353 ,\n",
              "        0.22745098, 0.        , 0.        ],\n",
              "       [0.        , 0.        , 0.        , 0.        , 0.        ,\n",
              "        0.        , 0.        , 0.15686275, 0.23921569, 0.17254902,\n",
              "        0.28235295, 0.16078432, 0.13725491, 0.        , 0.        ,\n",
              "        0.        , 0.        , 0.        , 0.        , 0.        ,\n",
              "        0.        , 0.        , 0.        , 0.        , 0.        ,\n",
              "        0.        , 0.        , 0.        ],\n",
              "       [0.        , 0.        , 0.        , 0.        , 0.        ,\n",
              "        0.        , 0.        , 0.        , 0.        , 0.        ,\n",
              "        0.        , 0.        , 0.        , 0.        , 0.        ,\n",
              "        0.        , 0.        , 0.        , 0.        , 0.        ,\n",
              "        0.        , 0.        , 0.        , 0.        , 0.        ,\n",
              "        0.        , 0.        , 0.        ],\n",
              "       [0.        , 0.        , 0.        , 0.        , 0.        ,\n",
              "        0.        , 0.        , 0.        , 0.        , 0.        ,\n",
              "        0.        , 0.        , 0.        , 0.        , 0.        ,\n",
              "        0.        , 0.        , 0.        , 0.        , 0.        ,\n",
              "        0.        , 0.        , 0.        , 0.        , 0.        ,\n",
              "        0.        , 0.        , 0.        ]], dtype=float32)"
            ]
          },
          "execution_count": 16,
          "metadata": {},
          "output_type": "execute_result"
        }
      ],
      "execution_count": null
    },
    {
      "metadata": {
        "ExecuteTime": {
          "end_time": "2024-12-15T16:29:12.491819Z",
          "start_time": "2024-12-15T16:29:12.358185Z"
        },
        "id": "8cbe6a1be4377fb4",
        "outputId": "274a8553-7db3-4f31-9883-171247618a12",
        "colab": {
          "base_uri": "https://localhost:8080/"
        }
      },
      "cell_type": "code",
      "source": [
        "def train_validate_test_split(data, labels, test_ratio=0.3, val_ratio=0.3, random_seed=None):\n",
        "    if test_ratio + val_ratio > 1:\n",
        "        raise ValueError(\"The sum of test_ratio and val_ratio must be <= 1.\")\n",
        "\n",
        "    # Set random seed for reproducibility\n",
        "    if random_seed is not None:\n",
        "        np.random.seed(random_seed)\n",
        "\n",
        "    # Calculate sizes of each set\n",
        "    test_set_size = int(len(data) * test_ratio)\n",
        "    val_set_size = int(len(data) * val_ratio)\n",
        "    indices = np.random.permutation(len(data))  # shuffle indices\n",
        "\n",
        "    test_indices = indices[:test_set_size]  # test set\n",
        "    val_indices = indices[test_set_size:test_set_size + val_set_size]  # validation set\n",
        "    train_indices = indices[test_set_size + val_set_size:]  # training set\n",
        "\n",
        "    # Split data and labels based on indices\n",
        "    X_train, X_val, X_test = data[train_indices], data[val_indices], data[test_indices]\n",
        "    y_train, y_val, y_test = labels[train_indices], labels[val_indices], labels[test_indices]\n",
        "\n",
        "    return X_train, X_val, X_test, y_train, y_val, y_test\n",
        "\n",
        "\n",
        "X_train, X_val, X_test, y_train, y_val, y_test = train_validate_test_split(train_images, train_label, test_ratio=0.2,\n",
        "                                                                           val_ratio=0.2, random_seed=42)\n",
        "\n",
        "print(X_train.shape, y_train.shape)\n",
        "print(X_val.shape, y_val.shape)\n",
        "print(X_test.shape, y_test.shape)"
      ],
      "id": "8cbe6a1be4377fb4",
      "outputs": [
        {
          "output_type": "stream",
          "name": "stdout",
          "text": [
            "(36000, 28, 28) (36000,)\n",
            "(12000, 28, 28) (12000,)\n",
            "(12000, 28, 28) (12000,)\n"
          ]
        }
      ],
      "execution_count": 7
    },
    {
      "metadata": {
        "id": "b90d9ec073be498f"
      },
      "cell_type": "markdown",
      "source": [
        "### Plot Histograms for Label Distribution\n",
        "In this section, we'll visualize the distribution of labels for the training, validation, and test datasets using histograms. Each histogram will show the frequency of each class in the respective dataset.\n",
        "\n",
        "The histograms will help us understand the distribution and class balance of the dataset.\n"
      ],
      "id": "b90d9ec073be498f"
    },
    {
      "metadata": {
        "id": "367082c20cd857b9"
      },
      "cell_type": "markdown",
      "source": [],
      "id": "367082c20cd857b9"
    },
    {
      "metadata": {
        "ExecuteTime": {
          "end_time": "2024-12-15T16:29:13.318880Z",
          "start_time": "2024-12-15T16:29:12.492814Z"
        },
        "id": "dfed1707caa09eeb",
        "outputId": "95cc1f75-c25b-47a6-846e-2337b8e28bae"
      },
      "cell_type": "code",
      "source": [
        "\n",
        "def plot_label_histogram(y_train, y_val, y_test):\n",
        "\n",
        "    plt.figure(figsize=(14, 8))\n",
        "\n",
        "    # Histogram for training labels\n",
        "    plt.subplot(2, 3, 1)\n",
        "    plt.hist(y_train, range=(0, 9), bins=10, color='blue', edgecolor='black')\n",
        "    plt.xlabel('Classes')\n",
        "    plt.ylabel('Number')\n",
        "    plt.title('Histogram for Training Labels')\n",
        "\n",
        "    # Histogram for validation labels\n",
        "    plt.subplot(2, 3, 2)\n",
        "    plt.hist(y_val, range=(0, 9), bins=10, color='red', edgecolor='black')\n",
        "    plt.xlabel('Classes')\n",
        "    plt.ylabel('Number')\n",
        "    plt.title('Histogram for Validation Labels')\n",
        "\n",
        "    # Histogram for test labels\n",
        "    plt.subplot(2, 3, 3)\n",
        "    plt.hist(y_test, range=(0, 9), bins=10, color='green', edgecolor='black')\n",
        "    plt.xlabel('Classes')\n",
        "    plt.ylabel('Number')\n",
        "    plt.title('Histogram for Test Labels')\n",
        "\n",
        "    plt.tight_layout()\n",
        "    plt.show()\n",
        "\n",
        "# Example usage:\n",
        "plot_label_histogram(y_train, y_val, y_test)\n"
      ],
      "id": "dfed1707caa09eeb",
      "outputs": [
        {
          "data": {
            "text/plain": [
              "<Figure size 1400x800 with 3 Axes>"
            ],
            "image/png": "[encoded data removed]"
          },
          "metadata": {},
          "output_type": "display_data"
        }
      ],
      "execution_count": null
    },
    {
      "metadata": {
        "id": "f2856371830cbd93"
      },
      "cell_type": "markdown",
      "source": [
        "### Model Architecture and Training\n",
        "\n",
        "In this section, we define a simple feedforward neural network using Keras' Sequential API for classifying the Fashion MNIST dataset. The model consists of:\n",
        "- An input layer with shape `(28, 28)` to accept the images.\n",
        "- A Flatten layer to convert the 2D image data into a 1D vector.\n",
        "- A Dense layer with 128 units and ReLU activation for the hidden layer.\n",
        "- An output layer with 10 units and softmax activation to predict one of the 10 classes.\n",
        "\n",
        "We then compile the model with the Adam optimizer and sparse categorical cross-entropy loss. The model is trained for 10 epochs with a batch size of 32, and we validate it on a validation set.\n",
        "\n",
        "Finally, we evaluate the model's performance on the test set.\n"
      ],
      "id": "f2856371830cbd93"
    },
    {
      "metadata": {
        "ExecuteTime": {
          "end_time": "2024-12-15T16:29:13.642521Z",
          "start_time": "2024-12-15T16:29:13.321863Z"
        },
        "id": "f4166c592ca203a5",
        "outputId": "d3921296-c60d-470e-cf68-02668717268f"
      },
      "cell_type": "code",
      "source": [
        "\n",
        "model = Sequential()\n",
        "\n",
        "model.add(Input(shape=(28, 28)))\n",
        "model.add(Flatten())\n",
        "model.add(Dense(128, activation='relu'))  # Fully connected layer with 128 units\n",
        "model.add(Dense(10, activation='softmax'))  # Output layer with 10 units (for 10 classes)\n",
        "\n",
        "model.summary()\n"
      ],
      "id": "f4166c592ca203a5",
      "outputs": [
        {
          "data": {
            "text/plain": [
              "\u001b[1mModel: \"sequential\"\u001b[0m\n"
            ],
            "text/html": [
              "<pre style=\"white-space:pre;overflow-x:auto;line-height:normal;font-family:Menlo,'DejaVu Sans Mono',consolas,'Courier New',monospace\"><span style=\"font-weight: bold\">Model: \"sequential\"</span>\n",
              "</pre>\n"
            ]
          },
          "metadata": {},
          "output_type": "display_data"
        },
        {
          "data": {
            "text/plain": [
              "┏━━━━━━━━━━━━━━━━━━━━━━━━━━━━━━━━━┳━━━━━━━━━━━━━━━━━━━━━━━━┳━━━━━━━━━━━━━━━┓\n",
              "┃\u001b[1m \u001b[0m\u001b[1mLayer (type)                   \u001b[0m\u001b[1m \u001b[0m┃\u001b[1m \u001b[0m\u001b[1mOutput Shape          \u001b[0m\u001b[1m \u001b[0m┃\u001b[1m \u001b[0m\u001b[1m      Param #\u001b[0m\u001b[1m \u001b[0m┃\n",
              "┡━━━━━━━━━━━━━━━━━━━━━━━━━━━━━━━━━╇━━━━━━━━━━━━━━━━━━━━━━━━╇━━━━━━━━━━━━━━━┩\n",
              "│ flatten (\u001b[38;5;33mFlatten\u001b[0m)               │ (\u001b[38;5;45mNone\u001b[0m, \u001b[38;5;34m784\u001b[0m)            │             \u001b[38;5;34m0\u001b[0m │\n",
              "├─────────────────────────────────┼────────────────────────┼───────────────┤\n",
              "│ dense (\u001b[38;5;33mDense\u001b[0m)                   │ (\u001b[38;5;45mNone\u001b[0m, \u001b[38;5;34m128\u001b[0m)            │       \u001b[38;5;34m100,480\u001b[0m │\n",
              "├─────────────────────────────────┼────────────────────────┼───────────────┤\n",
              "│ dense_1 (\u001b[38;5;33mDense\u001b[0m)                 │ (\u001b[38;5;45mNone\u001b[0m, \u001b[38;5;34m10\u001b[0m)             │         \u001b[38;5;34m1,290\u001b[0m │\n",
              "└─────────────────────────────────┴────────────────────────┴───────────────┘\n"
            ],
            "text/html": [
              "<pre style=\"white-space:pre;overflow-x:auto;line-height:normal;font-family:Menlo,'DejaVu Sans Mono',consolas,'Courier New',monospace\">┏━━━━━━━━━━━━━━━━━━━━━━━━━━━━━━━━━┳━━━━━━━━━━━━━━━━━━━━━━━━┳━━━━━━━━━━━━━━━┓\n",
              "┃<span style=\"font-weight: bold\"> Layer (type)                    </span>┃<span style=\"font-weight: bold\"> Output Shape           </span>┃<span style=\"font-weight: bold\">       Param # </span>┃\n",
              "┡━━━━━━━━━━━━━━━━━━━━━━━━━━━━━━━━━╇━━━━━━━━━━━━━━━━━━━━━━━━╇━━━━━━━━━━━━━━━┩\n",
              "│ flatten (<span style=\"color: #0087ff; text-decoration-color: #0087ff\">Flatten</span>)               │ (<span style=\"color: #00d7ff; text-decoration-color: #00d7ff\">None</span>, <span style=\"color: #00af00; text-decoration-color: #00af00\">784</span>)            │             <span style=\"color: #00af00; text-decoration-color: #00af00\">0</span> │\n",
              "├─────────────────────────────────┼────────────────────────┼───────────────┤\n",
              "│ dense (<span style=\"color: #0087ff; text-decoration-color: #0087ff\">Dense</span>)                   │ (<span style=\"color: #00d7ff; text-decoration-color: #00d7ff\">None</span>, <span style=\"color: #00af00; text-decoration-color: #00af00\">128</span>)            │       <span style=\"color: #00af00; text-decoration-color: #00af00\">100,480</span> │\n",
              "├─────────────────────────────────┼────────────────────────┼───────────────┤\n",
              "│ dense_1 (<span style=\"color: #0087ff; text-decoration-color: #0087ff\">Dense</span>)                 │ (<span style=\"color: #00d7ff; text-decoration-color: #00d7ff\">None</span>, <span style=\"color: #00af00; text-decoration-color: #00af00\">10</span>)             │         <span style=\"color: #00af00; text-decoration-color: #00af00\">1,290</span> │\n",
              "└─────────────────────────────────┴────────────────────────┴───────────────┘\n",
              "</pre>\n"
            ]
          },
          "metadata": {},
          "output_type": "display_data"
        },
        {
          "data": {
            "text/plain": [
              "\u001b[1m Total params: \u001b[0m\u001b[38;5;34m101,770\u001b[0m (397.54 KB)\n"
            ],
            "text/html": [
              "<pre style=\"white-space:pre;overflow-x:auto;line-height:normal;font-family:Menlo,'DejaVu Sans Mono',consolas,'Courier New',monospace\"><span style=\"font-weight: bold\"> Total params: </span><span style=\"color: #00af00; text-decoration-color: #00af00\">101,770</span> (397.54 KB)\n",
              "</pre>\n"
            ]
          },
          "metadata": {},
          "output_type": "display_data"
        },
        {
          "data": {
            "text/plain": [
              "\u001b[1m Trainable params: \u001b[0m\u001b[38;5;34m101,770\u001b[0m (397.54 KB)\n"
            ],
            "text/html": [
              "<pre style=\"white-space:pre;overflow-x:auto;line-height:normal;font-family:Menlo,'DejaVu Sans Mono',consolas,'Courier New',monospace\"><span style=\"font-weight: bold\"> Trainable params: </span><span style=\"color: #00af00; text-decoration-color: #00af00\">101,770</span> (397.54 KB)\n",
              "</pre>\n"
            ]
          },
          "metadata": {},
          "output_type": "display_data"
        },
        {
          "data": {
            "text/plain": [
              "\u001b[1m Non-trainable params: \u001b[0m\u001b[38;5;34m0\u001b[0m (0.00 B)\n"
            ],
            "text/html": [
              "<pre style=\"white-space:pre;overflow-x:auto;line-height:normal;font-family:Menlo,'DejaVu Sans Mono',consolas,'Courier New',monospace\"><span style=\"font-weight: bold\"> Non-trainable params: </span><span style=\"color: #00af00; text-decoration-color: #00af00\">0</span> (0.00 B)\n",
              "</pre>\n"
            ]
          },
          "metadata": {},
          "output_type": "display_data"
        }
      ],
      "execution_count": null
    },
    {
      "metadata": {
        "ExecuteTime": {
          "end_time": "2024-12-15T16:29:13.661466Z",
          "start_time": "2024-12-15T16:29:13.643515Z"
        },
        "id": "f2b0c37121c6eac6"
      },
      "cell_type": "code",
      "source": [
        "model.compile(optimizer='adam',loss='sparse_categorical_crossentropy',metrics=['accuracy'])"
      ],
      "id": "f2b0c37121c6eac6",
      "outputs": [],
      "execution_count": null
    },
    {
      "metadata": {
        "ExecuteTime": {
          "end_time": "2024-12-15T16:29:55.954894Z",
          "start_time": "2024-12-15T16:29:13.662464Z"
        },
        "id": "6ad655ae95a5c241",
        "outputId": "ae374ecb-6a0a-4388-a3fe-78c3227fa8f1"
      },
      "cell_type": "code",
      "source": [
        "# Train the model\n",
        "model.fit(X_train, y_train, epochs=10, batch_size=32, validation_data=(X_val, y_val))\n"
      ],
      "id": "6ad655ae95a5c241",
      "outputs": [
        {
          "name": "stdout",
          "output_type": "stream",
          "text": [
            "Epoch 1/10\n",
            "\u001b[1m1125/1125\u001b[0m \u001b[32m━━━━━━━━━━━━━━━━━━━━\u001b[0m\u001b[37m\u001b[0m \u001b[1m6s\u001b[0m 4ms/step - accuracy: 0.7577 - loss: 0.6990 - val_accuracy: 0.8465 - val_loss: 0.4369\n",
            "Epoch 2/10\n",
            "\u001b[1m1125/1125\u001b[0m \u001b[32m━━━━━━━━━━━━━━━━━━━━\u001b[0m\u001b[37m\u001b[0m \u001b[1m5s\u001b[0m 4ms/step - accuracy: 0.8533 - loss: 0.4075 - val_accuracy: 0.8696 - val_loss: 0.3745\n",
            "Epoch 3/10\n",
            "\u001b[1m1125/1125\u001b[0m \u001b[32m━━━━━━━━━━━━━━━━━━━━\u001b[0m\u001b[37m\u001b[0m \u001b[1m4s\u001b[0m 4ms/step - accuracy: 0.8716 - loss: 0.3546 - val_accuracy: 0.8718 - val_loss: 0.3578\n",
            "Epoch 4/10\n",
            "\u001b[1m1125/1125\u001b[0m \u001b[32m━━━━━━━━━━━━━━━━━━━━\u001b[0m\u001b[37m\u001b[0m \u001b[1m4s\u001b[0m 3ms/step - accuracy: 0.8766 - loss: 0.3339 - val_accuracy: 0.8764 - val_loss: 0.3375\n",
            "Epoch 5/10\n",
            "\u001b[1m1125/1125\u001b[0m \u001b[32m━━━━━━━━━━━━━━━━━━━━\u001b[0m\u001b[37m\u001b[0m \u001b[1m4s\u001b[0m 3ms/step - accuracy: 0.8885 - loss: 0.3054 - val_accuracy: 0.8775 - val_loss: 0.3351\n",
            "Epoch 6/10\n",
            "\u001b[1m1125/1125\u001b[0m \u001b[32m━━━━━━━━━━━━━━━━━━━━\u001b[0m\u001b[37m\u001b[0m \u001b[1m4s\u001b[0m 4ms/step - accuracy: 0.8942 - loss: 0.2942 - val_accuracy: 0.8817 - val_loss: 0.3334\n",
            "Epoch 7/10\n",
            "\u001b[1m1125/1125\u001b[0m \u001b[32m━━━━━━━━━━━━━━━━━━━━\u001b[0m\u001b[37m\u001b[0m \u001b[1m4s\u001b[0m 4ms/step - accuracy: 0.8978 - loss: 0.2769 - val_accuracy: 0.8779 - val_loss: 0.3403\n",
            "Epoch 8/10\n",
            "\u001b[1m1125/1125\u001b[0m \u001b[32m━━━━━━━━━━━━━━━━━━━━\u001b[0m\u001b[37m\u001b[0m \u001b[1m4s\u001b[0m 3ms/step - accuracy: 0.9006 - loss: 0.2662 - val_accuracy: 0.8778 - val_loss: 0.3330\n",
            "Epoch 9/10\n",
            "\u001b[1m1125/1125\u001b[0m \u001b[32m━━━━━━━━━━━━━━━━━━━━\u001b[0m\u001b[37m\u001b[0m \u001b[1m4s\u001b[0m 3ms/step - accuracy: 0.9064 - loss: 0.2543 - val_accuracy: 0.8816 - val_loss: 0.3283\n",
            "Epoch 10/10\n",
            "\u001b[1m1125/1125\u001b[0m \u001b[32m━━━━━━━━━━━━━━━━━━━━\u001b[0m\u001b[37m\u001b[0m \u001b[1m4s\u001b[0m 3ms/step - accuracy: 0.9057 - loss: 0.2481 - val_accuracy: 0.8785 - val_loss: 0.3366\n"
          ]
        },
        {
          "data": {
            "text/plain": [
              "<keras.src.callbacks.history.History at 0x21faab52180>"
            ]
          },
          "execution_count": 21,
          "metadata": {},
          "output_type": "execute_result"
        }
      ],
      "execution_count": null
    },
    {
      "metadata": {
        "ExecuteTime": {
          "end_time": "2024-12-15T16:29:56.824229Z",
          "start_time": "2024-12-15T16:29:55.955945Z"
        },
        "id": "e22b8bb1514472c0",
        "outputId": "c9379df3-1144-44d4-f1dd-963c89274e05"
      },
      "cell_type": "code",
      "source": [
        "test_loss ,test_acc=model.evaluate(X_test, y_test)"
      ],
      "id": "e22b8bb1514472c0",
      "outputs": [
        {
          "name": "stdout",
          "output_type": "stream",
          "text": [
            "\u001b[1m375/375\u001b[0m \u001b[32m━━━━━━━━━━━━━━━━━━━━\u001b[0m\u001b[37m\u001b[0m \u001b[1m1s\u001b[0m 2ms/step - accuracy: 0.8797 - loss: 0.3441\n"
          ]
        }
      ],
      "execution_count": null
    },
    {
      "metadata": {
        "id": "5768ff67675c5666"
      },
      "cell_type": "code",
      "outputs": [],
      "execution_count": 9,
      "source": [
        "from sklearn.metrics import confusion_matrix\n",
        "\n",
        "def calculate_metrics(y_true, y_pred):\n",
        "    # Compute confusion matrix\n",
        "    cm = confusion_matrix(y_true, y_pred)\n",
        "    # TP, FN, FP, TN\n",
        "    TN, FP, FN, TP = cm.ravel()\n",
        "\n",
        "    # Accuracy\n",
        "    accuracy = (TP + TN) / (TP + TN + FP + FN)\n",
        "\n",
        "    # Precision\n",
        "    precision = TP / (TP + FP) if (TP + FP) != 0 else 0\n",
        "\n",
        "    # Recall\n",
        "    recall = TP / (TP + FN) if (TP + FN) != 0 else 0\n",
        "\n",
        "    # F1 Score\n",
        "    f1_score = 2 * (precision * recall) / (precision + recall) if (precision + recall) != 0 else 0\n",
        "\n",
        "    return accuracy, precision, recall, f1_score\n",
        "\n",
        "\n"
      ],
      "id": "5768ff67675c5666"
    },
    {
      "cell_type": "code",
      "source": [
        "from sklearn.metrics import precision_score, recall_score, f1_score, accuracy_score, confusion_matrix\n",
        "\n",
        "def calculate_metrics_built_in(y_true, y_pred):\n",
        "    accuracy = accuracy_score(y_true, y_pred)\n",
        "\n",
        "    # Calculate precision, recall, and F1 score for multi-class\n",
        "    precision = precision_score(y_true, y_pred, average='weighted')\n",
        "    recall = recall_score(y_true, y_pred, average='weighted')\n",
        "    f1 = f1_score(y_true, y_pred, average='weighted')\n",
        "\n",
        "    # Print confusion matrix\n",
        "    cm = confusion_matrix(y_true, y_pred)\n",
        "    print(\"Confusion Matrix:\")\n",
        "    print(cm)\n",
        "\n",
        "    return accuracy, precision, recall, f1\n",
        "\n"
      ],
      "metadata": {
        "id": "-EpiSvbzIe62"
      },
      "id": "-EpiSvbzIe62",
      "execution_count": 10,
      "outputs": []
    },
    {
      "cell_type": "code",
      "source": [
        "models_results = {\n",
        "    \"Neural Network (NN)\": {\n",
        "        \"Accuracy\": 87.72,\n",
        "        \"Precision\": 88.06,\n",
        "        \"Recall\": 87.72,\n",
        "        \"F1 Score\": 87.56\n",
        "    },\n",
        "    \"Naive Bayes (NBC)\": {\n",
        "        \"Accuracy\": 58.32,\n",
        "        \"Precision\": 63.85,\n",
        "        \"Recall\": 58.32,\n",
        "        \"F1 Score\": 55.29\n",
        "    },\n",
        "    \"Support Vector Machine (SVM)\": {\n",
        "        \"Accuracy\": 84.70,\n",
        "        \"Precision\": 84.69,\n",
        "        \"Recall\":  84.70,\n",
        "        \"F1 Score\": 84.63\n",
        "    },\n",
        "    \"K-Nearest Neighbors (KNN)\": {\n",
        "        \"Accuracy\": 84.79,\n",
        "        \"Precision\": 85.06,\n",
        "        \"Recall\": 84.79,\n",
        "        \"F1 Score\": 84.67\n",
        "    },\n",
        "    \"One-vs-Rest Hard Margin SVM\": {\n",
        "        \"Accuracy\": 42.5,\n",
        "        \"Precision\": 86.36,\n",
        "        \"Recall\": 67.86,\n",
        "        \"F1 Score\": 76.0\n",
        "    },\n",
        "    \"One-vs-Rest Soft Margin SVM\": {\n",
        "        \"Accuracy\": 94.17,\n",
        "        \"Precision\": 89.29,\n",
        "        \"Recall\": 89.29,\n",
        "        \"F1 Score\": 89.29\n",
        "    }\n",
        "}"
      ],
      "metadata": {
        "id": "X546SVhjMPHJ"
      },
      "id": "X546SVhjMPHJ",
      "execution_count": 21,
      "outputs": []
    },
    {
      "metadata": {
        "id": "1e9c1c1eeb1c79aa"
      },
      "cell_type": "markdown",
      "source": [
        "### **Phase 2: Implementing Hard Margin SVM from Scratch**\n",
        "\n",
        "- implement a **Hard Margin Support Vector Machine (SVM)** from scratch.\n"
      ],
      "id": "1e9c1c1eeb1c79aa"
    },
    {
      "metadata": {
        "id": "fcd962148fb04b22"
      },
      "cell_type": "markdown",
      "source": [
        "## Hard Margin SVM works on a binary classification task.\n"
      ],
      "id": "fcd962148fb04b22"
    },
    {
      "metadata": {
        "id": "5dfcde90988954b4"
      },
      "cell_type": "markdown",
      "source": [
        "### Step 1: Implement Hard Margin SVM\n"
      ],
      "id": "5dfcde90988954b4"
    },
    {
      "metadata": {
        "ExecuteTime": {
          "end_time": "2024-12-16T00:00:07.509034Z",
          "start_time": "2024-12-16T00:00:07.473739Z"
        },
        "id": "96f086bf0bc9cb53"
      },
      "cell_type": "code",
      "source": [
        "def solve_svm_hard_margin(X, y):\n",
        "    X = np.atleast_2d(X)\n",
        "    y = y.astype(float).reshape(-1, 1)\n",
        "    n_samples, n_features = X.shape\n",
        "\n",
        "    # Kernel: Linear kernel (dot product)\n",
        "    K = np.dot(X, X.T)\n",
        "\n",
        "    # Setup the objective function (P, q)\n",
        "    P = np.outer(y, y) * K  # (n_samples, n_samples)\n",
        "    q = -np.ones((n_samples, 1))  # (n_samples, 1)\n",
        "\n",
        "    # Setup the constraints (A, b)\n",
        "    A = matrix(y.T, (1, n_samples))  # (1, n_samples)\n",
        "    b = matrix(1.0)  # All constraints should equal 1\n",
        "\n",
        "    # Setup the inequality constraints (alpha_i >= 0)\n",
        "    G = matrix(-np.eye(n_samples))  # For alpha_i >= 0\n",
        "    h = matrix(np.zeros(n_samples))  # (n_samples, 1)\n",
        "\n",
        "    # Solve the QP problem using cvxopt\n",
        "    solution = solvers.qp(matrix(P), matrix(q), matrix(G), matrix(h), matrix(A), matrix(b))\n",
        "    alphas = np.ravel(solution['x'])\n",
        "\n",
        "    return alphas\n"
      ],
      "id": "96f086bf0bc9cb53",
      "outputs": [],
      "execution_count": null
    },
    {
      "metadata": {
        "id": "6052003c3054e2e8"
      },
      "cell_type": "markdown",
      "source": [
        "### Step 2: Extract weights and bias for Hard Margin SVM.\n"
      ],
      "id": "6052003c3054e2e8"
    },
    {
      "metadata": {
        "ExecuteTime": {
          "end_time": "2024-12-16T00:00:10.225788Z",
          "start_time": "2024-12-16T00:00:10.217811Z"
        },
        "id": "b81bd4c4f8c2e930"
      },
      "cell_type": "code",
      "source": [
        "def extract_weights_and_bias(X, y, alphas):\n",
        "    support_vectors = np.where(alphas > 1e-5)[0]  # Indices of support vectors\n",
        "    alphas_sv = alphas[support_vectors]\n",
        "    X_sv = X[support_vectors]\n",
        "    y_sv = y[support_vectors]\n",
        "\n",
        "    # Calculate weights (w)\n",
        "    w = np.sum(alphas_sv[:, np.newaxis] * y_sv[:, np.newaxis] * X_sv, axis=0)\n",
        "\n",
        "    # Calculate bias (b)\n",
        "    b = np.mean(y_sv - np.dot(X_sv, w))\n",
        "\n",
        "    return w, b, support_vectors, y_sv\n"
      ],
      "id": "b81bd4c4f8c2e930",
      "outputs": [],
      "execution_count": null
    },
    {
      "metadata": {
        "id": "65350afafe622311"
      },
      "cell_type": "markdown",
      "source": [
        "### Step 3: Predict with Hard Margin SVM"
      ],
      "id": "65350afafe622311"
    },
    {
      "metadata": {
        "ExecuteTime": {
          "end_time": "2024-12-16T00:00:14.766757Z",
          "start_time": "2024-12-16T00:00:14.762800Z"
        },
        "id": "b8cad66d16e67b04"
      },
      "cell_type": "code",
      "source": [
        "def predict(X, w, b):\n",
        "    return np.sign(np.dot(X, w) + b)\n"
      ],
      "id": "b8cad66d16e67b04",
      "outputs": [],
      "execution_count": null
    },
    {
      "metadata": {
        "id": "2c40bb8335552913"
      },
      "cell_type": "markdown",
      "source": [
        "### Step 4:One-vs-Rest SVM for Multiclass Classification\n",
        "\n"
      ],
      "id": "2c40bb8335552913"
    },
    {
      "metadata": {
        "ExecuteTime": {
          "end_time": "2024-12-16T00:00:17.777035Z",
          "start_time": "2024-12-16T00:00:17.768149Z"
        },
        "id": "f18531f7167aa4e2"
      },
      "cell_type": "code",
      "source": [
        "def one_vs_rest_svm_hard_margin(X_train, y_train, X_test, y_test, num_classes=10):\n",
        "    alphas_all = []\n",
        "    ws = []\n",
        "    bs = []\n",
        "\n",
        "    # Train a binary SVM for each class (One-vs-Rest)\n",
        "    for class_label in range(num_classes):\n",
        "        # Create binary labels (1 for the current class, -1 for all others)\n",
        "        binary_y_train = np.where(y_train == class_label, 1, -1)\n",
        "\n",
        "        # Solve the SVM optimization problem for the current class\n",
        "        alphas = solve_svm_hard_margin(X_train, binary_y_train)\n",
        "\n",
        "        # Extract weights and bias for the current class\n",
        "        w, b, _, _ = extract_weights_and_bias(X_train, binary_y_train, alphas)\n",
        "\n",
        "        # Save the weights and bias\n",
        "        ws.append(w)\n",
        "        bs.append(b)\n",
        "\n",
        "    # Now predict for the test set\n",
        "    y_pred = np.zeros(X_test.shape[0])\n",
        "\n",
        "    for i in range(X_test.shape[0]):\n",
        "        # Predict using the class with the maximum decision value\n",
        "        decision_values = [np.dot(X_test[i], w) + b for w, b in zip(ws, bs)]\n",
        "        y_pred[i] = np.argmax(decision_values)  # Choose the class with the highest decision value\n",
        "\n",
        "  # Calculate accuracy, precision, recall, and F1 score\n",
        "    accuracy, precision, recall, f1_score = calculate_metrics(y_test, y_pred)\n",
        "    return accuracy, precision, recall, f1_score\n"
      ],
      "id": "f18531f7167aa4e2",
      "outputs": [],
      "execution_count": null
    },
    {
      "metadata": {
        "id": "8043da451b661713"
      },
      "cell_type": "markdown",
      "source": [
        "### Step 5: Evaluating Model Performance"
      ],
      "id": "8043da451b661713"
    },
    {
      "metadata": {
        "ExecuteTime": {
          "end_time": "2024-12-16T00:00:28.387138Z",
          "start_time": "2024-12-16T00:00:20.129818Z"
        },
        "id": "df01af9ad1b578af",
        "outputId": "3dc8a97a-8c69-4b1c-c241-a999e70b1a32"
      },
      "cell_type": "code",
      "source": [
        "accuracy, precision, recall, f1_score = one_vs_rest_svm_hard_margin(X_train, y_train, X_test, y_test, num_classes=10)\n",
        "\n",
        "print(f\"One-vs-Rest Hard Margin SVM Accuracy: {accuracy * 100:.2f}%\")\n",
        "print(f\"Precision: {precision * 100:.2f}%\")\n",
        "print(f\"Recall: {recall * 100:.2f}%\")\n",
        "print(f\"F1 Score: {f1_score * 100:.2f}%\")"
      ],
      "id": "df01af9ad1b578af",
      "outputs": [
        {
          "name": "stdout",
          "output_type": "stream",
          "text": [
            "     pcost       dcost       gap    pres   dres\n",
            " 0: -7.6468e+01 -1.5453e+02  3e+03  5e+01  2e+00\n",
            " 1: -9.9508e+01 -8.4364e+01  1e+03  2e+01  9e-01\n",
            " 2: -4.2295e+01 -6.0633e+00  3e+02  4e+00  2e-01\n",
            " 3: -3.7887e+00  1.5112e+00  3e+01  5e-01  2e-02\n",
            " 4: -3.4965e-01  2.2232e+00  1e+01  2e-01  8e-03\n",
            " 5:  5.8499e-01  2.8660e+00  1e+01  1e-01  4e-03\n",
            " 6:  1.2028e+00  3.6955e+00  6e+00  6e-02  2e-03\n",
            " 7:  2.4644e+00  5.2754e+00  4e+00  3e-02  1e-03\n",
            " 8:  4.2136e+00  6.1554e+00  2e+00  1e-02  5e-04\n",
            " 9:  6.3759e+00  6.4397e+00  1e-01  4e-04  2e-05\n",
            "10:  6.4411e+00  6.4419e+00  1e-03  5e-06  2e-07\n",
            "11:  6.4419e+00  6.4419e+00  1e-05  5e-08  2e-09\n",
            "12:  6.4419e+00  6.4419e+00  1e-07  5e-10  2e-11\n",
            "Optimal solution found.\n",
            "     pcost       dcost       gap    pres   dres\n",
            " 0: -1.4583e+02 -3.5050e+02  4e+03  5e+01  2e+00\n",
            " 1: -2.9922e+02 -4.1571e+02  3e+03  3e+01  1e+00\n",
            " 2: -5.2455e+02 -4.5606e+02  2e+03  2e+01  9e-01\n",
            " 3: -7.3835e+02 -4.7107e+02  2e+03  1e+01  6e-01\n",
            " 4: -5.4018e+02 -2.1786e+02  1e+03  8e+00  4e-01\n",
            " 5: -1.3975e+02 -2.4448e+01  3e+02  2e+00  9e-02\n",
            " 6: -4.2585e+01 -1.1629e+01  1e+02  7e-01  3e-02\n",
            " 7: -2.2708e+01 -9.0223e+00  8e+01  4e-01  2e-02\n",
            " 8: -1.3131e+01 -7.3745e+00  5e+01  2e-01  1e-02\n",
            " 9: -6.9018e+00 -6.7049e+00  4e+01  1e-01  6e-03\n",
            "10: -5.0119e+00 -5.3188e+00  1e+01  4e-02  2e-03\n",
            "11: -3.5278e+00 -4.9902e+00  3e+00  6e-03  3e-04\n",
            "12: -4.5215e+00 -4.8177e+00  6e-01  1e-03  5e-05\n",
            "13: -4.7565e+00 -4.7845e+00  3e-02  1e-15  2e-14\n",
            "14: -4.7807e+00 -4.7831e+00  2e-03  2e-15  3e-14\n",
            "15: -4.7829e+00 -4.7830e+00  3e-05  6e-15  3e-14\n",
            "16: -4.7830e+00 -4.7830e+00  4e-07  1e-15  3e-14\n",
            "Optimal solution found.\n",
            "     pcost       dcost       gap    pres   dres\n",
            " 0: -9.1200e+01 -2.1366e+02  4e+03  6e+01  2e+00\n",
            " 1: -1.6459e+02 -1.6566e+02  2e+03  2e+01  1e+00\n",
            " 2: -1.0941e+02 -3.5746e+01  7e+02  8e+00  3e-01\n",
            " 3: -1.0601e+01 -1.1573e-01  6e+01  7e-01  3e-02\n",
            " 4: -1.1914e+00  1.2289e+00  2e+01  2e-01  7e-03\n",
            " 5:  2.5546e-01  1.8526e+00  1e+01  9e-02  4e-03\n",
            " 6:  1.2388e+00  2.3137e+00  5e+00  4e-02  2e-03\n",
            " 7:  2.0065e+00  2.6091e+00  2e+00  2e-02  6e-04\n",
            " 8:  2.8203e+00  2.7052e+00  5e-01  2e-03  7e-05\n",
            " 9:  2.7381e+00  2.7217e+00  4e-02  1e-04  5e-06\n",
            "10:  2.7235e+00  2.7231e+00  8e-04  2e-06  7e-08\n",
            "11:  2.7231e+00  2.7231e+00  3e-05  6e-08  3e-09\n",
            "12:  2.7231e+00  2.7231e+00  8e-07  1e-09  4e-11\n",
            "Optimal solution found.\n",
            "     pcost       dcost       gap    pres   dres\n",
            " 0: -1.5474e+02 -4.1517e+02  5e+03  6e+01  3e+00\n",
            " 1: -3.8626e+02 -5.2109e+02  3e+03  3e+01  1e+00\n",
            " 2: -5.5174e+02 -4.8717e+02  2e+03  2e+01  9e-01\n",
            " 3: -6.5785e+02 -3.3971e+02  2e+03  1e+01  5e-01\n",
            " 4: -2.0960e+02 -4.9350e+01  6e+02  3e+00  2e-01\n",
            " 5: -5.5968e+01 -1.6739e+01  2e+02  8e-01  4e-02\n",
            " 6: -1.5464e+01 -1.2008e+01  6e+01  2e-01  1e-02\n",
            " 7: -7.3215e+00 -1.0173e+01  3e+01  9e-02  4e-03\n",
            " 8: -7.4238e+00 -8.6099e+00  5e+00  2e-02  8e-04\n",
            " 9: -7.8924e+00 -8.3441e+00  7e-01  1e-03  6e-05\n",
            "10: -8.2863e+00 -8.3005e+00  2e-02  3e-05  1e-06\n",
            "11: -8.2989e+00 -8.2992e+00  4e-04  5e-07  3e-08\n",
            "12: -8.2991e+00 -8.2991e+00  9e-06  8e-09  4e-10\n",
            "13: -8.2991e+00 -8.2991e+00  4e-07  1e-10  5e-12\n",
            "Optimal solution found.\n",
            "     pcost       dcost       gap    pres   dres\n",
            " 0: -9.0831e+01 -2.5189e+02  5e+03  5e+01  3e+00\n",
            " 1: -2.0706e+02 -2.6357e+02  3e+03  2e+01  1e+00\n",
            " 2: -1.2444e+02 -5.5406e+01  1e+03  8e+00  4e-01\n",
            " 3: -2.0220e+01 -1.9535e+00  1e+02  1e+00  6e-02\n",
            " 4: -4.2527e+00  5.8068e-01  4e+01  3e-01  2e-02\n",
            " 5: -6.4916e-01  1.8228e+00  2e+01  1e-01  7e-03\n",
            " 6:  8.9562e-01  2.7510e+00  1e+01  6e-02  3e-03\n",
            " 7:  2.2161e+00  3.4313e+00  5e+00  3e-02  1e-03\n",
            " 8:  3.0267e+00  3.6558e+00  3e+00  1e-02  7e-04\n",
            " 9:  3.7361e+00  3.7548e+00  7e-01  3e-03  1e-04\n",
            "10:  3.7928e+00  3.7729e+00  5e-02  1e-04  5e-06\n",
            "11:  3.7748e+00  3.7742e+00  1e-03  2e-06  1e-07\n",
            "12:  3.7743e+00  3.7743e+00  2e-05  4e-08  2e-09\n",
            "13:  3.7743e+00  3.7743e+00  5e-07  5e-10  2e-11\n",
            "Optimal solution found.\n",
            "     pcost       dcost       gap    pres   dres\n",
            " 0: -1.0230e+02 -2.6899e+02  5e+03  6e+01  3e+00\n",
            " 1: -2.2187e+02 -2.4513e+02  3e+03  3e+01  1e+00\n",
            " 2: -1.5525e+02 -5.6430e+01  9e+02  8e+00  3e-01\n",
            " 3: -2.3931e+01 -3.1450e+00  1e+02  1e+00  4e-02\n",
            " 4: -5.0987e+00 -6.8921e-01  3e+01  2e-01  1e-02\n",
            " 5: -7.5339e-01  4.8319e-01  1e+01  9e-02  4e-03\n",
            " 6:  9.0038e-01  1.0435e+00  3e+00  2e-02  7e-04\n",
            " 7:  1.3424e+00  1.1494e+00  9e-01  4e-03  2e-04\n",
            " 8:  1.2778e+00  1.1982e+00  1e-01  2e-04  9e-06\n",
            " 9:  1.2086e+00  1.2041e+00  5e-03  3e-06  1e-07\n",
            "10:  1.2044e+00  1.2043e+00  8e-05  4e-08  2e-09\n",
            "11:  1.2044e+00  1.2044e+00  8e-07  4e-10  2e-11\n",
            "Optimal solution found.\n",
            "     pcost       dcost       gap    pres   dres\n",
            " 0: -9.8241e+01 -2.2119e+02  4e+03  6e+01  2e+00\n",
            " 1: -1.4499e+02 -1.4222e+02  2e+03  3e+01  1e+00\n",
            " 2: -1.0560e+02 -3.0317e+01  6e+02  7e+00  3e-01\n",
            " 3: -1.1127e+01  7.9409e-02  6e+01  7e-01  3e-02\n",
            " 4: -2.4887e+00  1.4671e+00  2e+01  2e-01  9e-03\n",
            " 5: -3.5391e-01  2.3518e+00  1e+01  1e-01  4e-03\n",
            " 6:  3.3233e-01  2.8176e+00  8e+00  8e-02  3e-03\n",
            " 7:  1.2230e+00  3.4974e+00  7e+00  5e-02  2e-03\n",
            " 8:  2.2513e+00  4.2316e+00  4e+00  2e-02  9e-04\n",
            " 9:  3.6799e+00  4.6779e+00  2e+00  1e-02  4e-04\n",
            "10:  4.6395e+00  4.7905e+00  3e-01  1e-03  5e-05\n",
            "11:  4.8125e+00  4.7961e+00  2e-02  1e-15  1e-14\n",
            "12:  4.7968e+00  4.7965e+00  3e-04  3e-16  9e-15\n",
            "13:  4.7965e+00  4.7965e+00  4e-06  7e-16  9e-15\n",
            "Optimal solution found.\n",
            "     pcost       dcost       gap    pres   dres\n",
            " 0: -9.7470e+01 -2.4522e+02  4e+03  5e+01  3e+00\n",
            " 1: -1.8797e+02 -2.3850e+02  2e+03  3e+01  1e+00\n",
            " 2: -1.8236e+02 -9.9411e+01  1e+03  1e+01  5e-01\n",
            " 3: -4.0297e+01 -5.3924e+00  2e+02  2e+00  8e-02\n",
            " 4: -7.9724e+00 -1.4414e+00  4e+01  4e-01  2e-02\n",
            " 5: -2.6557e+00 -3.2890e-01  2e+01  1e-01  7e-03\n",
            " 6: -7.9197e-01  6.2320e-01  8e+00  6e-02  3e-03\n",
            " 7:  1.8021e-01  1.2637e+00  4e+00  3e-02  1e-03\n",
            " 8:  1.2827e+00  1.5714e+00  2e+00  8e-03  4e-04\n",
            " 9:  1.8057e+00  1.6218e+00  7e-01  2e-03  9e-05\n",
            "10:  1.6672e+00  1.6504e+00  4e-02  1e-04  5e-06\n",
            "11:  1.6524e+00  1.6520e+00  8e-04  2e-06  8e-08\n",
            "12:  1.6521e+00  1.6520e+00  2e-05  3e-08  1e-09\n",
            "13:  1.6520e+00  1.6520e+00  6e-07  5e-10  2e-11\n",
            "Optimal solution found.\n",
            "     pcost       dcost       gap    pres   dres\n",
            " 0: -1.7834e+02 -5.0972e+02  5e+03  6e+01  3e+00\n",
            " 1: -5.6048e+02 -9.7686e+02  4e+03  3e+01  2e+00\n",
            " 2: -1.3176e+03 -1.9774e+03  4e+03  3e+01  1e+00\n",
            " 3: -3.2102e+03 -4.4183e+03  4e+03  3e+01  1e+00\n",
            " 4: -9.0689e+03 -1.1624e+04  4e+03  3e+01  1e+00\n",
            " 5: -3.1208e+04 -3.6707e+04  6e+03  2e+01  1e+00\n",
            " 6: -1.1501e+05 -1.2749e+05  1e+04  2e+01  1e+00\n",
            " 7: -3.2044e+05 -3.4911e+05  3e+04  2e+01  1e+00\n",
            " 8: -1.0011e+06 -1.0750e+06  7e+04  2e+01  1e+00\n",
            " 9: -5.1743e+06 -5.4463e+06  3e+05  2e+01  1e+00\n",
            "10: -8.0270e+06 -8.4374e+06  4e+05  2e+01  1e+00\n",
            "11: -8.1434e+06 -8.5594e+06  4e+05  2e+01  1e+00\n",
            "12: -1.4189e+08 -1.4334e+08  1e+06  2e+01  1e+00\n",
            "13: -7.3709e+09 -7.4074e+09  4e+07  2e+01  1e+00\n",
            "14: -4.0955e+11 -4.1100e+11  1e+09  2e+01  1e+00\n",
            "15: -4.1513e+11 -4.1659e+11  1e+09  2e+01  1e+00\n",
            "16: -4.3040e+11 -4.3192e+11  2e+09  2e+01  1e+00\n",
            "17: -5.2131e+11 -5.2315e+11  2e+09  2e+01  1e+00\n",
            "18: -8.3383e+11 -8.3678e+11  3e+09  2e+01  1e+00\n",
            "19: -1.3070e+12 -1.3115e+12  4e+09  2e+01  1e+00\n",
            "20: -1.4433e+12 -1.4481e+12  5e+09  2e+01  1e+00\n",
            "21: -2.2376e+12 -2.2446e+12  7e+09  2e+01  1e+00\n",
            "22: -2.2995e+12 -2.3067e+12  7e+09  2e+01  1e+00\n",
            "23: -2.7107e+12 -2.7184e+12  8e+09  2e+01  1e+00\n",
            "24: -3.0884e+12 -3.0964e+12  8e+09  2e+01  1e+00\n",
            "25: -3.2976e+12 -3.3056e+12  8e+09  2e+01  1e+00\n",
            "26: -3.8040e+12 -3.8121e+12  8e+09  2e+01  1e+00\n",
            "Terminated (singular KKT matrix).\n",
            "     pcost       dcost       gap    pres   dres\n",
            " 0: -1.6166e+02 -4.6358e+02  5e+03  6e+01  3e+00\n",
            " 1: -3.6354e+02 -7.1548e+02  4e+03  4e+01  2e+00\n",
            " 2: -5.8456e+02 -7.6488e+02  3e+03  3e+01  1e+00\n",
            " 3: -8.1858e+02 -8.3274e+02  3e+03  2e+01  1e+00\n",
            " 4: -1.1103e+03 -8.2633e+02  2e+03  1e+01  7e-01\n",
            " 5: -1.0807e+03 -6.0276e+02  2e+03  1e+01  5e-01\n",
            " 6: -5.8382e+02 -1.8854e+02  1e+03  5e+00  3e-01\n",
            " 7: -1.4613e+02 -4.2533e+01  4e+02  1e+00  7e-02\n",
            " 8: -5.4336e+01 -3.4356e+01  3e+02  7e-01  4e-02\n",
            " 9: -1.5536e+01 -2.7744e+01  9e+01  2e-01  1e-02\n",
            "10: -1.7486e+01 -2.2806e+01  2e+01  5e-02  2e-03\n",
            "11: -2.0428e+01 -2.1829e+01  2e+00  2e-03  9e-05\n",
            "12: -2.1595e+01 -2.1694e+01  1e-01  8e-05  4e-06\n",
            "13: -2.1683e+01 -2.1685e+01  3e-03  2e-06  9e-08\n",
            "14: -2.1685e+01 -2.1685e+01  2e-04  1e-07  5e-09\n",
            "15: -2.1685e+01 -2.1685e+01  4e-06  2e-09  9e-11\n",
            "Optimal solution found.\n",
            "One-vs-Rest Hard Margin SVM Accuracy: 42.50%\n",
            "Precision: 86.36%\n",
            "Recall: 67.86%\n",
            "F1 Score: 76.00%\n"
          ]
        }
      ],
      "execution_count": null
    },
    {
      "metadata": {
        "id": "6fe0881567b4b067"
      },
      "cell_type": "markdown",
      "source": [
        "## Soft Margin SVM works on a binary classification task.\n"
      ],
      "id": "6fe0881567b4b067"
    },
    {
      "metadata": {
        "id": "31ad94ef123ef257"
      },
      "cell_type": "markdown",
      "source": [
        "### Step 1: Implement Soft Margin SVM\n"
      ],
      "id": "31ad94ef123ef257"
    },
    {
      "metadata": {
        "ExecuteTime": {
          "end_time": "2024-12-16T00:07:39.921529Z",
          "start_time": "2024-12-16T00:07:39.913873Z"
        },
        "id": "2e5732b97f46ad6f"
      },
      "cell_type": "code",
      "source": [
        "def solve_svm_soft_margin(X, y, C=1.0):\n",
        "    X = np.atleast_2d(X)\n",
        "    y = y.astype(float).reshape(-1, 1)\n",
        "    n_samples, n_features = X.shape\n",
        "\n",
        "    # Kernel: Linear kernel (dot product)\n",
        "    K = np.dot(X, X.T)\n",
        "\n",
        "    # Setup the objective function (P, q)\n",
        "    P = np.outer(y, y) * K\n",
        "    q = -np.ones((n_samples, 1))\n",
        "\n",
        "    # Setup the constraints (A, b)\n",
        "    A = matrix(y.T, (1, n_samples))\n",
        "    b = matrix(0.0)\n",
        "\n",
        "    # Setup the inequality constraints (alpha_i >= 0)\n",
        "    G = matrix(np.vstack((-np.eye(n_samples), np.eye(n_samples))))  # for alpha >= 0 and slack variables >= 0\n",
        "    h = matrix(np.hstack((np.zeros(n_samples), np.ones(n_samples) * C)))  # slack variables <= C\n",
        "\n",
        "    # Solve the QP problem using cvxopt\n",
        "    solution = solvers.qp(matrix(P), matrix(q), matrix(G), matrix(h), matrix(A), matrix(b))\n",
        "    alphas = np.ravel(solution['x'])\n",
        "\n",
        "    return alphas\n"
      ],
      "id": "2e5732b97f46ad6f",
      "outputs": [],
      "execution_count": null
    },
    {
      "metadata": {
        "id": "7900fe88ce46aa79"
      },
      "cell_type": "markdown",
      "source": [
        "### Step 2: Extract weights and bias for Soft Margin SVM, considering slack variables.\n"
      ],
      "id": "7900fe88ce46aa79"
    },
    {
      "metadata": {
        "ExecuteTime": {
          "end_time": "2024-12-16T00:07:42.249354Z",
          "start_time": "2024-12-16T00:07:42.243139Z"
        },
        "id": "21d8d5ac301f64e0"
      },
      "cell_type": "code",
      "source": [
        "def extract_weights_and_bias(X, y, alphas):\n",
        "    support_vectors = np.where(alphas > 1e-5)[0]  # Indices of support vectors\n",
        "    alphas_sv = alphas[support_vectors]\n",
        "    X_sv = X[support_vectors]\n",
        "    y_sv = y[support_vectors]\n",
        "\n",
        "    # Calculate weights (w)\n",
        "    w = np.sum(alphas_sv[:, np.newaxis] * y_sv[:, np.newaxis] * X_sv, axis=0)\n",
        "\n",
        "    # Calculate bias (b)\n",
        "    b = np.mean(y_sv - np.dot(X_sv, w))\n",
        "\n",
        "    return w, b, support_vectors, y_sv\n"
      ],
      "id": "21d8d5ac301f64e0",
      "outputs": [],
      "execution_count": null
    },
    {
      "metadata": {
        "id": "d655493612d2cba2"
      },
      "cell_type": "markdown",
      "source": [
        "### Step 3: Predict with Soft Margin SVM\n"
      ],
      "id": "d655493612d2cba2"
    },
    {
      "metadata": {
        "ExecuteTime": {
          "end_time": "2024-12-16T00:07:47.996478Z",
          "start_time": "2024-12-16T00:07:47.992800Z"
        },
        "id": "9dd1f1f0a6aaeba0"
      },
      "cell_type": "code",
      "source": [
        "\n",
        "def predict(X, w, b):\n",
        "    return np.sign(np.dot(X, w) + b)\n"
      ],
      "id": "9dd1f1f0a6aaeba0",
      "outputs": [],
      "execution_count": null
    },
    {
      "metadata": {
        "id": "1e192f6967aa6eaf"
      },
      "cell_type": "markdown",
      "source": [
        "### Step 4:One-vs-Rest SVM for Multiclass Classification\n",
        "\n"
      ],
      "id": "1e192f6967aa6eaf"
    },
    {
      "metadata": {
        "ExecuteTime": {
          "end_time": "2024-12-16T00:07:52.187842Z",
          "start_time": "2024-12-16T00:07:52.166185Z"
        },
        "id": "caf042fb2ddf9839"
      },
      "cell_type": "code",
      "source": [
        "def one_vs_rest_soft_svm(X_train, y_train, X_test, y_test, num_classes=10, C=1.0):\n",
        "    alphas_all = []\n",
        "    ws = []\n",
        "    bs = []\n",
        "\n",
        "    # Train a binary SVM for each class (One-vs-Rest)\n",
        "    for class_label in range(num_classes):\n",
        "        # Create binary labels (1 for the current class, -1 for all others)\n",
        "        binary_y_train = np.where(y_train == class_label, 1, -1)\n",
        "\n",
        "        # Solve the SVM optimization problem for the current class\n",
        "        alphas = solve_svm_soft_margin(X_train, binary_y_train, C)\n",
        "\n",
        "        # Extract weights and bias for the current class\n",
        "        w, b, _, _ = extract_weights_and_bias(X_train, binary_y_train, alphas)\n",
        "\n",
        "        # Save the weights and bias\n",
        "        ws.append(w)\n",
        "        bs.append(b)\n",
        "\n",
        "    # Now predict for the test set\n",
        "    y_pred = np.zeros(X_test.shape[0])\n",
        "\n",
        "    for i in range(X_test.shape[0]):\n",
        "        # Predict using the class with the maximum decision value\n",
        "        decision_values = [np.dot(X_test[i], w) + b for w, b in zip(ws, bs)]\n",
        "        y_pred[i] = np.argmax(decision_values)  # Choose the class with the highest decision value\n",
        "\n",
        "    # Calculate accuracy\n",
        "  # Calculate accuracy, precision, recall, and F1 score\n",
        "    accuracy, precision, recall, f1_score = calculate_metrics(y_test, y_pred)\n",
        "    return accuracy, precision, recall, f1_score\n"
      ],
      "id": "caf042fb2ddf9839",
      "outputs": [],
      "execution_count": null
    },
    {
      "metadata": {
        "id": "57d8b5fd0f2d537f"
      },
      "cell_type": "markdown",
      "source": [
        "### Step 5: Evaluating Model Performance"
      ],
      "id": "57d8b5fd0f2d537f"
    },
    {
      "metadata": {
        "ExecuteTime": {
          "end_time": "2024-12-16T00:08:06.293704Z",
          "start_time": "2024-12-16T00:07:54.972580Z"
        },
        "id": "e6b6ee1c7ab3bd35",
        "outputId": "93d6cb82-b5fd-4c95-9985-83bf0b0b026f"
      },
      "cell_type": "code",
      "source": [
        "accuracy, precision, recall, f1_score =  one_vs_rest_soft_svm(X_train, y_train, X_test, y_test, num_classes=10)\n",
        "\n",
        "print(f\"One-vs-Rest Soft Margin SVM Accuracy: {accuracy * 100:.2f}%\")\n",
        "print(f\"Precision: {precision * 100:.2f}%\")\n",
        "print(f\"Recall: {recall * 100:.2f}%\")\n",
        "print(f\"F1 Score: {f1_score * 100:.2f}%\")"
      ],
      "id": "e6b6ee1c7ab3bd35",
      "outputs": [
        {
          "name": "stdout",
          "output_type": "stream",
          "text": [
            "     pcost       dcost       gap    pres   dres\n",
            " 0: -7.7180e+01 -1.6115e+03  8e+03  2e+00  7e-14\n",
            " 1: -4.5394e+01 -7.5461e+02  1e+03  2e-01  5e-14\n",
            " 2: -1.8414e+01 -2.4684e+02  4e+02  7e-02  3e-14\n",
            " 3: -8.1909e+00 -1.3662e+02  2e+02  4e-02  2e-14\n",
            " 4: -1.3705e+00 -6.3219e+01  1e+02  1e-02  1e-14\n",
            " 5: -1.1466e-01 -1.4532e+01  2e+01  2e-03  3e-15\n",
            " 6: -9.6401e-02 -1.8638e+00  2e+00  2e-04  1e-15\n",
            " 7: -2.9237e-01 -1.1199e+00  9e-01  6e-05  1e-15\n",
            " 8: -4.1051e-01 -8.9838e-01  5e-01  1e-05  1e-15\n",
            " 9: -4.9674e-01 -7.2620e-01  2e-01  2e-16  2e-15\n",
            "10: -5.7589e-01 -6.0291e-01  3e-02  2e-16  2e-15\n",
            "11: -5.8640e-01 -5.8747e-01  1e-03  2e-16  2e-15\n",
            "12: -5.8685e-01 -5.8692e-01  7e-05  3e-16  2e-15\n",
            "13: -5.8688e-01 -5.8688e-01  8e-07  2e-16  2e-15\n",
            "14: -5.8688e-01 -5.8688e-01  8e-09  2e-16  2e-15\n",
            "Optimal solution found.\n",
            "     pcost       dcost       gap    pres   dres\n",
            " 0: -1.4649e+02 -1.8157e+03  9e+03  2e+00  1e-13\n",
            " 1: -9.6046e+01 -9.6264e+02  2e+03  3e-01  7e-14\n",
            " 2: -6.1418e+01 -3.7009e+02  6e+02  1e-01  5e-14\n",
            " 3: -4.5961e+01 -2.4599e+02  4e+02  6e-02  4e-14\n",
            " 4: -2.9872e+01 -1.4216e+02  2e+02  3e-02  3e-14\n",
            " 5: -2.1417e+01 -8.9713e+01  1e+02  2e-02  3e-14\n",
            " 6: -1.4629e+01 -5.7094e+01  8e+01  8e-03  2e-14\n",
            " 7: -1.0896e+01 -2.6532e+01  3e+01  2e-03  2e-14\n",
            " 8: -1.0209e+01 -1.4252e+01  5e+00  3e-04  2e-14\n",
            " 9: -1.0622e+01 -1.1511e+01  9e-01  1e-15  2e-14\n",
            "10: -1.0973e+01 -1.1057e+01  8e-02  2e-15  2e-14\n",
            "11: -1.1012e+01 -1.1014e+01  2e-03  1e-15  2e-14\n",
            "12: -1.1013e+01 -1.1013e+01  2e-05  8e-16  2e-14\n",
            "13: -1.1013e+01 -1.1013e+01  4e-07  9e-16  2e-14\n",
            "Optimal solution found.\n",
            "     pcost       dcost       gap    pres   dres\n",
            " 0: -9.1860e+01 -1.9165e+03  1e+04  3e+00  9e-14\n",
            " 1: -5.6129e+01 -1.0160e+03  2e+03  3e-01  6e-14\n",
            " 2: -3.1130e+01 -3.9352e+02  6e+02  1e-01  4e-14\n",
            " 3: -1.5407e+01 -1.8350e+02  3e+02  5e-02  2e-14\n",
            " 4: -6.1936e+00 -1.0606e+02  2e+02  2e-02  2e-14\n",
            " 5: -8.3197e-01 -4.7810e+01  7e+01  7e-03  1e-14\n",
            " 6: -1.2311e-01 -7.0456e+00  9e+00  6e-04  3e-15\n",
            " 7: -5.6725e-01 -4.2303e+00  4e+00  3e-04  3e-15\n",
            " 8: -7.1363e-01 -3.7559e+00  3e+00  7e-05  3e-15\n",
            " 9: -1.2434e+00 -2.2765e+00  1e+00  2e-05  4e-15\n",
            "10: -1.4538e+00 -1.7849e+00  3e-01  2e-07  4e-15\n",
            "11: -1.5736e+00 -1.6154e+00  4e-02  2e-16  4e-15\n",
            "12: -1.5901e+00 -1.5962e+00  6e-03  2e-16  4e-15\n",
            "13: -1.5929e+00 -1.5929e+00  9e-05  2e-16  5e-15\n",
            "14: -1.5929e+00 -1.5929e+00  9e-07  2e-16  5e-15\n",
            "Optimal solution found.\n",
            "     pcost       dcost       gap    pres   dres\n",
            " 0: -1.5542e+02 -1.9665e+03  1e+04  3e+00  9e-14\n",
            " 1: -9.7337e+01 -1.0891e+03  2e+03  4e-01  7e-14\n",
            " 2: -6.0898e+01 -4.5596e+02  7e+02  1e-01  5e-14\n",
            " 3: -4.1576e+01 -2.2381e+02  3e+02  6e-02  4e-14\n",
            " 4: -2.7117e+01 -1.5947e+02  2e+02  3e-02  3e-14\n",
            " 5: -1.8455e+01 -9.3416e+01  1e+02  1e-02  2e-14\n",
            " 6: -1.2274e+01 -6.2324e+01  8e+01  7e-03  2e-14\n",
            " 7: -9.6738e+00 -3.7864e+01  4e+01  2e-03  2e-14\n",
            " 8: -1.1771e+01 -1.8348e+01  8e+00  4e-04  2e-14\n",
            " 9: -1.2247e+01 -1.5289e+01  3e+00  5e-05  2e-14\n",
            "10: -1.3181e+01 -1.3661e+01  5e-01  7e-06  2e-14\n",
            "11: -1.3332e+01 -1.3410e+01  8e-02  3e-07  2e-14\n",
            "12: -1.3365e+01 -1.3369e+01  4e-03  1e-08  2e-14\n",
            "13: -1.3367e+01 -1.3367e+01  5e-05  2e-10  2e-14\n",
            "14: -1.3367e+01 -1.3367e+01  8e-07  3e-12  2e-14\n",
            "Optimal solution found.\n",
            "     pcost       dcost       gap    pres   dres\n",
            " 0: -9.1564e+01 -1.8700e+03  1e+04  3e+00  8e-14\n",
            " 1: -5.6616e+01 -9.7271e+02  2e+03  3e-01  5e-14\n",
            " 2: -3.1459e+01 -3.6351e+02  6e+02  1e-01  3e-14\n",
            " 3: -1.9141e+01 -2.0035e+02  3e+02  5e-02  2e-14\n",
            " 4: -1.0211e+01 -1.1732e+02  2e+02  3e-02  2e-14\n",
            " 5: -3.3884e+00 -9.8309e+01  2e+02  2e-02  1e-14\n",
            " 6: -5.6863e-01 -2.3544e+01  3e+01  3e-03  6e-15\n",
            " 7: -6.7615e-01 -6.5507e+00  8e+00  6e-04  4e-15\n",
            " 8: -1.1062e+00 -3.0607e+00  2e+00  1e-05  4e-15\n",
            " 9: -1.3262e+00 -2.6662e+00  1e+00  3e-06  4e-15\n",
            "10: -1.6889e+00 -2.0546e+00  4e-01  7e-07  5e-15\n",
            "11: -1.8128e+00 -1.8505e+00  4e-02  2e-16  6e-15\n",
            "12: -1.8301e+00 -1.8307e+00  6e-04  2e-16  6e-15\n",
            "13: -1.8304e+00 -1.8304e+00  7e-06  7e-16  6e-15\n",
            "14: -1.8304e+00 -1.8304e+00  7e-08  4e-16  6e-15\n",
            "Optimal solution found.\n",
            "     pcost       dcost       gap    pres   dres\n",
            " 0: -1.0299e+02 -2.0983e+03  1e+04  3e+00  8e-14\n",
            " 1: -6.1762e+01 -1.1810e+03  2e+03  4e-01  6e-14\n",
            " 2: -2.7484e+01 -3.3730e+02  5e+02  8e-02  4e-14\n",
            " 3: -1.6001e+01 -1.5511e+02  2e+02  3e-02  2e-14\n",
            " 4: -8.3636e+00 -9.0413e+01  1e+02  2e-02  2e-14\n",
            " 5: -4.7069e+00 -6.0091e+01  9e+01  1e-02  1e-14\n",
            " 6: -6.3885e-01 -3.4544e+01  5e+01  4e-03  8e-15\n",
            " 7: -1.1624e+00 -1.7860e+01  2e+01  2e-03  5e-15\n",
            " 8: -1.0980e+00 -8.3226e+00  7e+00  7e-16  6e-15\n",
            " 9: -2.1897e+00 -5.6922e+00  4e+00  4e-16  6e-15\n",
            "10: -2.8797e+00 -4.0566e+00  1e+00  2e-16  8e-15\n",
            "11: -3.2242e+00 -3.5254e+00  3e-01  2e-16  8e-15\n",
            "12: -3.3202e+00 -3.3838e+00  6e-02  4e-16  8e-15\n",
            "13: -3.3464e+00 -3.3478e+00  1e-03  3e-16  9e-15\n",
            "14: -3.3470e+00 -3.3470e+00  1e-05  3e-16  9e-15\n",
            "15: -3.3470e+00 -3.3470e+00  1e-07  6e-16  9e-15\n",
            "Optimal solution found.\n",
            "     pcost       dcost       gap    pres   dres\n",
            " 0: -9.8939e+01 -1.9496e+03  1e+04  3e+00  8e-14\n",
            " 1: -5.8129e+01 -1.0380e+03  2e+03  3e-01  5e-14\n",
            " 2: -2.2301e+01 -2.6293e+02  4e+02  7e-02  4e-14\n",
            " 3: -9.3076e+00 -1.1098e+02  2e+02  3e-02  2e-14\n",
            " 4: -5.3002e+00 -6.1672e+01  9e+01  1e-02  1e-14\n",
            " 5: -3.1761e+00 -4.1550e+01  6e+01  8e-03  9e-15\n",
            " 6: -7.3226e-01 -2.1463e+01  3e+01  3e-03  6e-15\n",
            " 7: -5.4875e-01 -5.3262e+00  6e+00  6e-04  3e-15\n",
            " 8: -7.9019e-01 -2.2496e+00  1e+00  1e-05  3e-15\n",
            " 9: -1.1174e+00 -1.6140e+00  5e-01  2e-16  4e-15\n",
            "10: -1.2680e+00 -1.3768e+00  1e-01  5e-16  4e-15\n",
            "11: -1.3126e+00 -1.3144e+00  2e-03  2e-16  5e-15\n",
            "12: -1.3134e+00 -1.3134e+00  2e-05  3e-16  5e-15\n",
            "13: -1.3134e+00 -1.3134e+00  3e-07  2e-16  5e-15\n",
            "Optimal solution found.\n",
            "     pcost       dcost       gap    pres   dres\n",
            " 0: -9.8166e+01 -1.8343e+03  9e+03  2e+00  9e-14\n",
            " 1: -6.1116e+01 -9.8383e+02  2e+03  4e-01  6e-14\n",
            " 2: -3.0959e+01 -3.1242e+02  5e+02  9e-02  4e-14\n",
            " 3: -1.9452e+01 -1.6139e+02  3e+02  4e-02  3e-14\n",
            " 4: -1.0098e+01 -1.0310e+02  2e+02  2e-02  2e-14\n",
            " 5: -4.2692e+00 -6.5069e+01  1e+02  1e-02  1e-14\n",
            " 6: -2.7962e+00 -2.6882e+01  4e+01  4e-03  9e-15\n",
            " 7: -2.3670e+00 -7.6815e+00  6e+00  4e-04  8e-15\n",
            " 8: -2.9020e+00 -5.4360e+00  3e+00  7e-05  8e-15\n",
            " 9: -3.2798e+00 -4.4466e+00  1e+00  3e-05  7e-15\n",
            "10: -3.3810e+00 -4.0798e+00  7e-01  1e-06  8e-15\n",
            "11: -3.6302e+00 -3.7262e+00  1e-01  1e-07  9e-15\n",
            "12: -3.6636e+00 -3.6796e+00  2e-02  9e-16  9e-15\n",
            "13: -3.6709e+00 -3.6714e+00  5e-04  2e-16  9e-15\n",
            "14: -3.6711e+00 -3.6712e+00  5e-06  2e-16  9e-15\n",
            "15: -3.6711e+00 -3.6711e+00  5e-08  1e-15  9e-15\n",
            "Optimal solution found.\n",
            "     pcost       dcost       gap    pres   dres\n",
            " 0: -1.7901e+02 -2.0386e+03  1e+04  3e+00  9e-14\n",
            " 1: -1.1668e+02 -1.1487e+03  2e+03  3e-01  6e-14\n",
            " 2: -8.3972e+01 -4.3536e+02  6e+02  1e-01  4e-14\n",
            " 3: -7.2872e+01 -2.8421e+02  4e+02  6e-02  3e-14\n",
            " 4: -6.3140e+01 -1.5319e+02  1e+02  2e-02  3e-14\n",
            " 5: -5.7370e+01 -1.1994e+02  1e+02  1e-02  3e-14\n",
            " 6: -5.6749e+01 -7.6109e+01  3e+01  3e-03  4e-14\n",
            " 7: -5.7729e+01 -6.4239e+01  9e+00  8e-04  4e-14\n",
            " 8: -5.8169e+01 -5.9965e+01  2e+00  1e-04  4e-14\n",
            " 9: -5.8469e+01 -5.8800e+01  3e-01  4e-06  4e-14\n",
            "10: -5.8593e+01 -5.8637e+01  4e-02  3e-07  4e-14\n",
            "11: -5.8612e+01 -5.8613e+01  1e-03  7e-09  4e-14\n",
            "12: -5.8613e+01 -5.8613e+01  4e-05  2e-10  4e-14\n",
            "Optimal solution found.\n",
            "     pcost       dcost       gap    pres   dres\n",
            " 0: -1.6234e+02 -2.0322e+03  1e+04  3e+00  9e-14\n",
            " 1: -1.0471e+02 -1.1454e+03  2e+03  4e-01  6e-14\n",
            " 2: -6.7061e+01 -4.3404e+02  7e+02  1e-01  4e-14\n",
            " 3: -4.5949e+01 -2.2385e+02  3e+02  5e-02  3e-14\n",
            " 4: -3.4246e+01 -1.5566e+02  2e+02  3e-02  3e-14\n",
            " 5: -2.6993e+01 -1.0481e+02  1e+02  2e-02  2e-14\n",
            " 6: -2.1070e+01 -7.6380e+01  1e+02  1e-02  2e-14\n",
            " 7: -1.7054e+01 -5.9354e+01  7e+01  7e-03  2e-14\n",
            " 8: -1.5594e+01 -2.6095e+01  2e+01  1e-03  2e-14\n",
            " 9: -1.5418e+01 -1.7917e+01  3e+00  2e-04  2e-14\n",
            "10: -1.5887e+01 -1.6635e+01  9e-01  4e-05  2e-14\n",
            "11: -1.6066e+01 -1.6159e+01  9e-02  1e-15  3e-14\n",
            "12: -1.6109e+01 -1.6112e+01  3e-03  4e-15  3e-14\n",
            "13: -1.6110e+01 -1.6110e+01  5e-05  2e-15  3e-14\n",
            "14: -1.6110e+01 -1.6110e+01  5e-07  1e-15  3e-14\n",
            "Optimal solution found.\n",
            "One-vs-Rest Soft Margin SVM Accuracy: 94.17%\n",
            "Precision: 89.29%\n",
            "Recall: 89.29%\n",
            "F1 Score: 89.29%\n"
          ]
        }
      ],
      "execution_count": null
    },
    {
      "cell_type": "markdown",
      "source": [
        "# phase 3\n"
      ],
      "metadata": {
        "id": "y9FvxHwrHOVQ"
      },
      "id": "y9FvxHwrHOVQ"
    },
    {
      "metadata": {
        "id": "e7f592000a5675c6",
        "outputId": "1620c9f8-53d2-4d07-a141-286d821ba1f3",
        "colab": {
          "base_uri": "https://localhost:8080/"
        }
      },
      "cell_type": "code",
      "outputs": [
        {
          "output_type": "stream",
          "name": "stdout",
          "text": [
            "Confusion Matrix:\n",
            "[[1035    0   27   37    4    0   92    0    7    0]\n",
            " [   5 1178    5   19    1    0    9    0    1    1]\n",
            " [  18    0  974   12  120    0   78    1    2    0]\n",
            " [  65    8   14 1026   41    0   28    0    2    0]\n",
            " [   7    1  124   40  919    0  106    0    5    0]\n",
            " [   2    0    1    0    0  979   13  133    4   79]\n",
            " [ 239    1  175   29   93    0  670    0   11    0]\n",
            " [   0    0    0    0    0    2    0 1100    0   57]\n",
            " [   6    0   25    7    9    1   16    9 1122    2]\n",
            " [   0    0    0    0    0    0    2   29    0 1172]]\n"
          ]
        }
      ],
      "execution_count": 11,
      "source": [
        "from sklearn.neighbors import KNeighborsClassifier\n",
        "\n",
        "def knn_evaluation(X_train, y_train, X_test, y_test, n_neighbors=5):\n",
        "    # Flatten the images for KNN (since KNN works with 1D arrays)\n",
        "    X_train_flat = X_train.reshape(X_train.shape[0], -1)\n",
        "    X_test_flat = X_test.reshape(X_test.shape[0], -1)\n",
        "\n",
        "    # Initialize the KNN model\n",
        "    knn = KNeighborsClassifier(n_neighbors=n_neighbors)\n",
        "\n",
        "    # Train the KNN model\n",
        "    knn.fit(X_train_flat, y_train)\n",
        "\n",
        "    # Predict using the KNN model\n",
        "    y_pred_knn = knn.predict(X_test_flat)\n",
        "\n",
        "    # Calculate the evaluation metrics using the modified function\n",
        "    accuracy_knn, precision_knn, recall_knn, f1_score_knn = calculate_metrics_built_in(y_test, y_pred_knn)\n",
        "\n",
        "    # Return the results in a dictionary\n",
        "    results_knn = {\n",
        "        \"Accuracy\": accuracy_knn * 100,\n",
        "        \"Precision\": precision_knn * 100,\n",
        "        \"Recall\": recall_knn * 100,\n",
        "        \"F1 Score\": f1_score_knn * 100\n",
        "    }\n",
        "\n",
        "    return results_knn\n",
        "\n",
        "# Example usage\n",
        "knn_results = knn_evaluation(X_train, y_train, X_test, y_test)\n"
      ],
      "id": "e7f592000a5675c6"
    },
    {
      "cell_type": "code",
      "source": [
        "\n",
        "# Print the metrics\n",
        "print(f\"KNN Model Accuracy: {knn_results['Accuracy']:.2f}%\")\n",
        "print(f\"KNN Model Precision: {knn_results['Precision']:.2f}%\")\n",
        "print(f\"KNN Model Recall: {knn_results['Recall']:.2f}%\")\n",
        "print(f\"KNN Model F1 Score: {knn_results['F1 Score']:.2f}%\")"
      ],
      "metadata": {
        "id": "SgAB0KJbHa3K",
        "outputId": "0455f745-acbc-49ff-9668-6cae95aacdcf",
        "colab": {
          "base_uri": "https://localhost:8080/"
        }
      },
      "id": "SgAB0KJbHa3K",
      "execution_count": 12,
      "outputs": [
        {
          "output_type": "stream",
          "name": "stdout",
          "text": [
            "KNN Model Accuracy: 84.79%\n",
            "KNN Model Precision: 85.06%\n",
            "KNN Model Recall: 84.79%\n",
            "KNN Model F1 Score: 84.67%\n"
          ]
        }
      ]
    },
    {
      "cell_type": "code",
      "source": [
        "from sklearn.svm import SVC\n",
        "from sklearn.metrics import accuracy_score, classification_report, confusion_matrix\n",
        "\n",
        "# Train a Soft Margin SVM using scikit-learn\n",
        "def svm_classification(X_train, y_train, X_test, y_test, kernel='linear', C=1.0):\n",
        "    # Instantiate the SVM classifier with the desired kernel\n",
        "    model = SVC(kernel=kernel, C=C, random_state=42)\n",
        "\n",
        "    # Train the model\n",
        "    model.fit(X_train.reshape(X_train.shape[0], -1), y_train)  # Flatten the images for SVM\n",
        "\n",
        "    # Predict the test set\n",
        "    y_pred = model.predict(X_test.reshape(X_test.shape[0], -1))  # Flatten the images for SVM\n",
        "\n",
        "    accuracy, precision, recall, f1_score = calculate_metrics_built_in(y_test, y_pred)\n",
        "\n",
        "    # Return the results in a dictionary\n",
        "    results_svm = {\n",
        "        \"Accuracy\": accuracy * 100,\n",
        "        \"Precision\": precision * 100,\n",
        "        \"Recall\": recall * 100,\n",
        "        \"F1 Score\": f1_score * 100\n",
        "    }\n",
        "\n",
        "    return results_svm\n",
        "# Example usage:\n",
        "svm_results=svm_classification(X_train, y_train, X_test, y_test)\n",
        "\n",
        "\n"
      ],
      "metadata": {
        "id": "fsoank_NHUJ2",
        "outputId": "fc1064ac-7bc7-47cf-acda-27f30f9347ff",
        "colab": {
          "base_uri": "https://localhost:8080/"
        }
      },
      "id": "fsoank_NHUJ2",
      "execution_count": 13,
      "outputs": [
        {
          "output_type": "stream",
          "name": "stdout",
          "text": [
            "Confusion Matrix:\n",
            "[[1007    4   29   46    5    1  101    0    9    0]\n",
            " [   6 1175    5   26    1    0    5    0    1    0]\n",
            " [  33    3  916   14  137    1   97    0    4    0]\n",
            " [  65   21   17 1019   36    0   22    0    4    0]\n",
            " [   6    1  118   45  932    0   95    0    5    0]\n",
            " [   1    1    0    0    0 1140    0   43    4   22]\n",
            " [ 201    5  135   44  115    0  702    0   16    0]\n",
            " [   0    0    0    0    0   63    0 1058    1   37]\n",
            " [  22    2   12   10   12   12   40    3 1082    2]\n",
            " [   0    0    0    0    0   28    0   41    1 1133]]\n"
          ]
        }
      ]
    },
    {
      "cell_type": "code",
      "source": [
        "print(f\"SVM Model Accuracy: {svm_results['Accuracy'] :.2f}%\")\n",
        "print(f\"SVM Model Precision: {svm_results['Precision'] :.2f}%\")\n",
        "print(f\"SVM Model Recall: {svm_results['Recall'] :.2f}%\")\n",
        "print(f\"SVM Model F1 Score: {svm_results['F1 Score'] :.2f}%\")"
      ],
      "metadata": {
        "id": "NpUx0XtFHXur",
        "outputId": "4921bf2e-cabd-4fa2-de1f-39c2b4d8ad1b",
        "colab": {
          "base_uri": "https://localhost:8080/"
        }
      },
      "id": "NpUx0XtFHXur",
      "execution_count": 14,
      "outputs": [
        {
          "output_type": "stream",
          "name": "stdout",
          "text": [
            "SVM Model Accuracy: 84.70%\n",
            "SVM Model Precision: 84.69%\n",
            "SVM Model Recall: 84.70%\n",
            "SVM Model F1 Score: 84.63%\n"
          ]
        }
      ]
    },
    {
      "cell_type": "code",
      "source": [
        "from sklearn.naive_bayes import GaussianNB\n",
        "from sklearn.metrics import accuracy_score, classification_report, confusion_matrix\n",
        "\n",
        "# Train a Naive Bayes classifier\n",
        "def naive_bayes_classification(X_train, y_train, X_test, y_test):\n",
        "    # Flatten the images for Naive Bayes (as it doesn't accept 2D data)\n",
        "    X_train_flat = X_train.reshape(X_train.shape[0], -1)\n",
        "    X_test_flat = X_test.reshape(X_test.shape[0], -1)\n",
        "\n",
        "    # Instantiate and train the model\n",
        "    model = GaussianNB()\n",
        "    model.fit(X_train_flat, y_train)\n",
        "\n",
        "    # Make predictions on the test set\n",
        "    y_pred = model.predict(X_test_flat)\n",
        "\n",
        "    accuracy, precision, recall, f1_score = calculate_metrics_built_in(y_test, y_pred)\n",
        "\n",
        "    results_nb = {\n",
        "        \"Accuracy\": accuracy * 100,\n",
        "        \"Precision\": precision * 100,\n",
        "        \"Recall\": recall * 100,\n",
        "        \"F1 Score\": f1_score * 100\n",
        "    }\n",
        "\n",
        "\n",
        "    return results_nb\n",
        "\n",
        "\n",
        "# Example usage:\n",
        "naive_bayes_results = naive_bayes_classification(X_train, y_train, X_test, y_test)\n",
        "\n"
      ],
      "metadata": {
        "id": "NaBobapCHeLr",
        "outputId": "730fc49c-caa5-433b-8531-fe51a7145448",
        "colab": {
          "base_uri": "https://localhost:8080/"
        }
      },
      "id": "NaBobapCHeLr",
      "execution_count": 15,
      "outputs": [
        {
          "output_type": "stream",
          "name": "stdout",
          "text": [
            "Confusion Matrix:\n",
            "[[ 716   80   30  216  102    0   29    0   29    0]\n",
            " [   3 1162   14   29    4    0    6    0    1    0]\n",
            " [   3   25  381   60  682    0   27    0   27    0]\n",
            " [   8  434    7  687   39    0    7    0    2    0]\n",
            " [   0   57   51  169  908    0    3    0   14    0]\n",
            " [   0    0    2    0    1  298    6  832   10   62]\n",
            " [ 135   54  132  214  569    0   53    0   61    0]\n",
            " [   0    0    0    0    0    5    0 1133    3   18]\n",
            " [   5    3   30  102  178    7   16    6  850    0]\n",
            " [   0    0    2    1    0   16    7  356   11  810]]\n"
          ]
        }
      ]
    },
    {
      "cell_type": "code",
      "source": [
        "print(f\"Naive Bayes Model Accuracy: {naive_bayes_results['Accuracy'] :.2f}%\")\n",
        "print(f\"Naive Bayes Model Precision: {naive_bayes_results['Precision'] :.2f}%\")\n",
        "print(f\"Naive Bayes Model Recall: {naive_bayes_results['Recall'] :.2f}%\")\n",
        "print(f\"Naive Bayes Model F1 Score: {naive_bayes_results['F1 Score'] :.2f}%\")"
      ],
      "metadata": {
        "id": "GiJ_IrGAHgBd",
        "outputId": "b4f40b1b-812b-4a3d-e575-8b1b46b8af17",
        "colab": {
          "base_uri": "https://localhost:8080/"
        }
      },
      "id": "GiJ_IrGAHgBd",
      "execution_count": 16,
      "outputs": [
        {
          "output_type": "stream",
          "name": "stdout",
          "text": [
            "Naive Bayes Model Accuracy: 58.32%\n",
            "Naive Bayes Model Precision: 63.85%\n",
            "Naive Bayes Model Recall: 58.32%\n",
            "Naive Bayes Model F1 Score: 55.29%\n"
          ]
        }
      ]
    },
    {
      "cell_type": "code",
      "source": [
        "# Define the neural network model function\n",
        "def nn(X_train, y_train, X_val, y_val, X_test, y_test, epochs=10, batch_size=32):\n",
        "    # Create the model\n",
        "    model = Sequential()\n",
        "    model.add(Input(shape=(28, 28)))  # Input layer with shape (28, 28)\n",
        "    model.add(Flatten())  # Flatten the input to a 1D vector\n",
        "    model.add(Dense(128, activation='relu'))  # Fully connected layer with 128 units and ReLU activation\n",
        "    model.add(Dense(10, activation='softmax'))  # Output layer with 10 units (for 10 classes)\n",
        "\n",
        "    # Print model summary\n",
        "    model.summary()\n",
        "\n",
        "    # Compile the model\n",
        "    model.compile(optimizer='adam', loss='sparse_categorical_crossentropy', metrics=['accuracy'])\n",
        "\n",
        "    # Train the model\n",
        "    model.fit(X_train, y_train, epochs=epochs, batch_size=batch_size, validation_data=(X_val, y_val))\n",
        "\n",
        "    # Evaluate the model on the test data\n",
        "    y_pred = model.predict(X_test)\n",
        "    y_pred_classes = y_pred.argmax(axis=1)  # Convert predictions to class labels\n",
        "\n",
        "    # Calculate the evaluation metrics using the calculate_metrics function\n",
        "    accuracy, precision, recall, f1_score = calculate_metrics_built_in(y_test, y_pred_classes)\n",
        "    results_nn = {\n",
        "        \"Accuracy\": accuracy * 100,\n",
        "        \"Precision\": precision * 100,\n",
        "        \"Recall\": recall * 100,\n",
        "        \"F1 Score\": f1_score * 100\n",
        "    }\n",
        "    return results_nn\n",
        "\n",
        "nn_results = nn(X_train, y_train, X_val, y_val, X_test, y_test, epochs=10, batch_size=32)\n"
      ],
      "metadata": {
        "id": "GIAlnWlbHiMf",
        "outputId": "5a56443e-51f8-440c-ffb5-a32f87d21a6e",
        "colab": {
          "base_uri": "https://localhost:8080/",
          "height": 806
        }
      },
      "id": "GIAlnWlbHiMf",
      "execution_count": 18,
      "outputs": [
        {
          "output_type": "display_data",
          "data": {
            "text/plain": [
              "\u001b[1mModel: \"sequential\"\u001b[0m\n"
            ],
            "text/html": [
              "<pre style=\"white-space:pre;overflow-x:auto;line-height:normal;font-family:Menlo,'DejaVu Sans Mono',consolas,'Courier New',monospace\"><span style=\"font-weight: bold\">Model: \"sequential\"</span>\n",
              "</pre>\n"
            ]
          },
          "metadata": {}
        },
        {
          "output_type": "display_data",
          "data": {
            "text/plain": [
              "┏━━━━━━━━━━━━━━━━━━━━━━━━━━━━━━━━━━━━━━┳━━━━━━━━━━━━━━━━━━━━━━━━━━━━━┳━━━━━━━━━━━━━━━━━┓\n",
              "┃\u001b[1m \u001b[0m\u001b[1mLayer (type)                        \u001b[0m\u001b[1m \u001b[0m┃\u001b[1m \u001b[0m\u001b[1mOutput Shape               \u001b[0m\u001b[1m \u001b[0m┃\u001b[1m \u001b[0m\u001b[1m        Param #\u001b[0m\u001b[1m \u001b[0m┃\n",
              "┡━━━━━━━━━━━━━━━━━━━━━━━━━━━━━━━━━━━━━━╇━━━━━━━━━━━━━━━━━━━━━━━━━━━━━╇━━━━━━━━━━━━━━━━━┩\n",
              "│ flatten (\u001b[38;5;33mFlatten\u001b[0m)                    │ (\u001b[38;5;45mNone\u001b[0m, \u001b[38;5;34m784\u001b[0m)                 │               \u001b[38;5;34m0\u001b[0m │\n",
              "├──────────────────────────────────────┼─────────────────────────────┼─────────────────┤\n",
              "│ dense (\u001b[38;5;33mDense\u001b[0m)                        │ (\u001b[38;5;45mNone\u001b[0m, \u001b[38;5;34m128\u001b[0m)                 │         \u001b[38;5;34m100,480\u001b[0m │\n",
              "├──────────────────────────────────────┼─────────────────────────────┼─────────────────┤\n",
              "│ dense_1 (\u001b[38;5;33mDense\u001b[0m)                      │ (\u001b[38;5;45mNone\u001b[0m, \u001b[38;5;34m10\u001b[0m)                  │           \u001b[38;5;34m1,290\u001b[0m │\n",
              "└──────────────────────────────────────┴─────────────────────────────┴─────────────────┘\n"
            ],
            "text/html": [
              "<pre style=\"white-space:pre;overflow-x:auto;line-height:normal;font-family:Menlo,'DejaVu Sans Mono',consolas,'Courier New',monospace\">┏━━━━━━━━━━━━━━━━━━━━━━━━━━━━━━━━━━━━━━┳━━━━━━━━━━━━━━━━━━━━━━━━━━━━━┳━━━━━━━━━━━━━━━━━┓\n",
              "┃<span style=\"font-weight: bold\"> Layer (type)                         </span>┃<span style=\"font-weight: bold\"> Output Shape                </span>┃<span style=\"font-weight: bold\">         Param # </span>┃\n",
              "┡━━━━━━━━━━━━━━━━━━━━━━━━━━━━━━━━━━━━━━╇━━━━━━━━━━━━━━━━━━━━━━━━━━━━━╇━━━━━━━━━━━━━━━━━┩\n",
              "│ flatten (<span style=\"color: #0087ff; text-decoration-color: #0087ff\">Flatten</span>)                    │ (<span style=\"color: #00d7ff; text-decoration-color: #00d7ff\">None</span>, <span style=\"color: #00af00; text-decoration-color: #00af00\">784</span>)                 │               <span style=\"color: #00af00; text-decoration-color: #00af00\">0</span> │\n",
              "├──────────────────────────────────────┼─────────────────────────────┼─────────────────┤\n",
              "│ dense (<span style=\"color: #0087ff; text-decoration-color: #0087ff\">Dense</span>)                        │ (<span style=\"color: #00d7ff; text-decoration-color: #00d7ff\">None</span>, <span style=\"color: #00af00; text-decoration-color: #00af00\">128</span>)                 │         <span style=\"color: #00af00; text-decoration-color: #00af00\">100,480</span> │\n",
              "├──────────────────────────────────────┼─────────────────────────────┼─────────────────┤\n",
              "│ dense_1 (<span style=\"color: #0087ff; text-decoration-color: #0087ff\">Dense</span>)                      │ (<span style=\"color: #00d7ff; text-decoration-color: #00d7ff\">None</span>, <span style=\"color: #00af00; text-decoration-color: #00af00\">10</span>)                  │           <span style=\"color: #00af00; text-decoration-color: #00af00\">1,290</span> │\n",
              "└──────────────────────────────────────┴─────────────────────────────┴─────────────────┘\n",
              "</pre>\n"
            ]
          },
          "metadata": {}
        },
        {
          "output_type": "display_data",
          "data": {
            "text/plain": [
              "\u001b[1m Total params: \u001b[0m\u001b[38;5;34m101,770\u001b[0m (397.54 KB)\n"
            ],
            "text/html": [
              "<pre style=\"white-space:pre;overflow-x:auto;line-height:normal;font-family:Menlo,'DejaVu Sans Mono',consolas,'Courier New',monospace\"><span style=\"font-weight: bold\"> Total params: </span><span style=\"color: #00af00; text-decoration-color: #00af00\">101,770</span> (397.54 KB)\n",
              "</pre>\n"
            ]
          },
          "metadata": {}
        },
        {
          "output_type": "display_data",
          "data": {
            "text/plain": [
              "\u001b[1m Trainable params: \u001b[0m\u001b[38;5;34m101,770\u001b[0m (397.54 KB)\n"
            ],
            "text/html": [
              "<pre style=\"white-space:pre;overflow-x:auto;line-height:normal;font-family:Menlo,'DejaVu Sans Mono',consolas,'Courier New',monospace\"><span style=\"font-weight: bold\"> Trainable params: </span><span style=\"color: #00af00; text-decoration-color: #00af00\">101,770</span> (397.54 KB)\n",
              "</pre>\n"
            ]
          },
          "metadata": {}
        },
        {
          "output_type": "display_data",
          "data": {
            "text/plain": [
              "\u001b[1m Non-trainable params: \u001b[0m\u001b[38;5;34m0\u001b[0m (0.00 B)\n"
            ],
            "text/html": [
              "<pre style=\"white-space:pre;overflow-x:auto;line-height:normal;font-family:Menlo,'DejaVu Sans Mono',consolas,'Courier New',monospace\"><span style=\"font-weight: bold\"> Non-trainable params: </span><span style=\"color: #00af00; text-decoration-color: #00af00\">0</span> (0.00 B)\n",
              "</pre>\n"
            ]
          },
          "metadata": {}
        },
        {
          "output_type": "stream",
          "name": "stdout",
          "text": [
            "Epoch 1/10\n",
            "\u001b[1m1125/1125\u001b[0m \u001b[32m━━━━━━━━━━━━━━━━━━━━\u001b[0m\u001b[37m\u001b[0m \u001b[1m5s\u001b[0m 3ms/step - accuracy: 0.7508 - loss: 0.7123 - val_accuracy: 0.8480 - val_loss: 0.4379\n",
            "Epoch 2/10\n",
            "\u001b[1m1125/1125\u001b[0m \u001b[32m━━━━━━━━━━━━━━━━━━━━\u001b[0m\u001b[37m\u001b[0m \u001b[1m4s\u001b[0m 4ms/step - accuracy: 0.8485 - loss: 0.4250 - val_accuracy: 0.8604 - val_loss: 0.3903\n",
            "Epoch 3/10\n",
            "\u001b[1m1125/1125\u001b[0m \u001b[32m━━━━━━━━━━━━━━━━━━━━\u001b[0m\u001b[37m\u001b[0m \u001b[1m7s\u001b[0m 5ms/step - accuracy: 0.8674 - loss: 0.3746 - val_accuracy: 0.8630 - val_loss: 0.3835\n",
            "Epoch 4/10\n",
            "\u001b[1m1125/1125\u001b[0m \u001b[32m━━━━━━━━━━━━━━━━━━━━\u001b[0m\u001b[37m\u001b[0m \u001b[1m8s\u001b[0m 3ms/step - accuracy: 0.8764 - loss: 0.3387 - val_accuracy: 0.8640 - val_loss: 0.3833\n",
            "Epoch 5/10\n",
            "\u001b[1m1125/1125\u001b[0m \u001b[32m━━━━━━━━━━━━━━━━━━━━\u001b[0m\u001b[37m\u001b[0m \u001b[1m8s\u001b[0m 6ms/step - accuracy: 0.8822 - loss: 0.3246 - val_accuracy: 0.8786 - val_loss: 0.3336\n",
            "Epoch 6/10\n",
            "\u001b[1m1125/1125\u001b[0m \u001b[32m━━━━━━━━━━━━━━━━━━━━\u001b[0m\u001b[37m\u001b[0m \u001b[1m9s\u001b[0m 4ms/step - accuracy: 0.8927 - loss: 0.2953 - val_accuracy: 0.8722 - val_loss: 0.3491\n",
            "Epoch 7/10\n",
            "\u001b[1m1125/1125\u001b[0m \u001b[32m━━━━━━━━━━━━━━━━━━━━\u001b[0m\u001b[37m\u001b[0m \u001b[1m5s\u001b[0m 5ms/step - accuracy: 0.8959 - loss: 0.2813 - val_accuracy: 0.8702 - val_loss: 0.3520\n",
            "Epoch 8/10\n",
            "\u001b[1m1125/1125\u001b[0m \u001b[32m━━━━━━━━━━━━━━━━━━━━\u001b[0m\u001b[37m\u001b[0m \u001b[1m10s\u001b[0m 5ms/step - accuracy: 0.8983 - loss: 0.2743 - val_accuracy: 0.8765 - val_loss: 0.3445\n",
            "Epoch 9/10\n",
            "\u001b[1m1125/1125\u001b[0m \u001b[32m━━━━━━━━━━━━━━━━━━━━\u001b[0m\u001b[37m\u001b[0m \u001b[1m9s\u001b[0m 4ms/step - accuracy: 0.9028 - loss: 0.2623 - val_accuracy: 0.8890 - val_loss: 0.3155\n",
            "Epoch 10/10\n",
            "\u001b[1m1125/1125\u001b[0m \u001b[32m━━━━━━━━━━━━━━━━━━━━\u001b[0m\u001b[37m\u001b[0m \u001b[1m7s\u001b[0m 6ms/step - accuracy: 0.9105 - loss: 0.2472 - val_accuracy: 0.8792 - val_loss: 0.3452\n",
            "\u001b[1m375/375\u001b[0m \u001b[32m━━━━━━━━━━━━━━━━━━━━\u001b[0m\u001b[37m\u001b[0m \u001b[1m1s\u001b[0m 2ms/step\n",
            "Confusion Matrix:\n",
            "[[1078    2   38   24    1    0   53    0    6    0]\n",
            " [   2 1188    4   21    1    0    2    0    1    0]\n",
            " [  18    0 1078    8   61    1   37    0    2    0]\n",
            " [  62    9   15 1043   33    0   20    0    2    0]\n",
            " [   4    2  191   43  875    0   84    0    3    0]\n",
            " [   0    0    0    1    0 1151    0   39    3   17]\n",
            " [ 226    2  169   30   59    1  721    0   10    0]\n",
            " [   0    0    0    0    0   14    0 1120    1   24]\n",
            " [   7    1   11    6    4    4   15    5 1142    2]\n",
            " [   0    0    0    0    0   14    0   57    2 1130]]\n"
          ]
        }
      ]
    },
    {
      "cell_type": "code",
      "source": [
        "print(f\"NN Model Accuracy: {nn_results['Accuracy'] :.2f}%\")\n",
        "print(f\"NN Model Precision: {nn_results['Precision'] :.2f}%\")\n",
        "print(f\"NN Model Recall: {nn_results['Recall'] :.2f}%\")\n",
        "print(f\"NN Model F1 Score: {nn_results['F1 Score'] :.2f}%\")"
      ],
      "metadata": {
        "id": "uimIj60AHkC9",
        "outputId": "5797d5f1-ed58-4f0d-b9a1-789faeb0b153",
        "colab": {
          "base_uri": "https://localhost:8080/"
        }
      },
      "id": "uimIj60AHkC9",
      "execution_count": 19,
      "outputs": [
        {
          "output_type": "stream",
          "name": "stdout",
          "text": [
            "NN Model Accuracy: 87.72%\n",
            "NN Model Precision: 88.06%\n",
            "NN Model Recall: 87.72%\n",
            "NN Model F1 Score: 87.56%\n"
          ]
        }
      ]
    },
    {
      "cell_type": "code",
      "source": [
        "# Enhanced function to compare models and generate a detailed report\n",
        "def generate_detailed_comparison_report(models_results):\n",
        "    # Create a header row for the table\n",
        "    comparison_table = [\n",
        "        [\"Model\", \"Accuracy (%)\", \"Precision (%)\", \"Recall (%)\", \"F1 Score (%)\"]\n",
        "    ]\n",
        "\n",
        "    # Add each model's results to the table\n",
        "    for model_name, metrics in models_results.items():\n",
        "        comparison_table.append([\n",
        "            model_name,\n",
        "            metrics[\"Accuracy\"],\n",
        "            metrics[\"Precision\"],\n",
        "            metrics[\"Recall\"],\n",
        "            metrics[\"F1 Score\"]\n",
        "        ])\n",
        "\n",
        "    # Sort the models by Accuracy in descending order\n",
        "    sorted_models = sorted(models_results.items(), key=lambda x: x[1][\"Accuracy\"], reverse=True)\n",
        "\n",
        "    # Print the sorted comparison table\n",
        "    print(\"Model Comparison Report (Sorted by Accuracy):\")\n",
        "    print(f\"{'Model':<35} {'Accuracy (%)':<15} {'Precision (%)':<15} {'Recall (%)':<15} {'F1 Score (%)':<15}\")\n",
        "    print(\"-\" * 95)\n",
        "    for model_name, metrics in sorted_models:\n",
        "        print(f\"{model_name:<35} {metrics['Accuracy']:<15.2f} {metrics['Precision']:<15.2f} {metrics['Recall']:<15.2f} {metrics['F1 Score']:<15.2f}\")\n",
        "\n",
        "    print(\"\\nAdditional Insights:\")\n",
        "\n",
        "    # Best model by Accuracy\n",
        "    best_model_accuracy = sorted_models[0][0]\n",
        "    print(f\"- The model with the highest accuracy is: {best_model_accuracy} (Accuracy: {sorted_models[0][1]['Accuracy']}%)\")\n",
        "\n",
        "    # Best models for other metrics\n",
        "    best_precision_model = max(models_results, key=lambda model: models_results[model][\"Precision\"])\n",
        "    best_recall_model = max(models_results, key=lambda model: models_results[model][\"Recall\"])\n",
        "    best_f1_score_model = max(models_results, key=lambda model: models_results[model][\"F1 Score\"])\n",
        "\n",
        "    print(f\"- The model with the highest precision is: {best_precision_model} (Precision: {models_results[best_precision_model]['Precision']}%)\")\n",
        "    print(f\"- The model with the highest recall is: {best_recall_model} (Recall: {models_results[best_recall_model]['Recall']}%)\")\n",
        "    print(f\"- The model with the highest F1 score is: {best_f1_score_model} (F1 Score: {models_results[best_f1_score_model]['F1 Score']}%)\")\n",
        "\n",
        "    # Summary of the top-performing model\n",
        "    if best_model_accuracy == best_f1_score_model:\n",
        "        print(f\"\\nSummary: The {best_model_accuracy} model is the best overall, achieving the highest accuracy and F1 score, indicating balanced performance.\")\n",
        "    else:\n",
        "        print(f\"\\nSummary: The best model for accuracy is {best_model_accuracy}, but consider {best_f1_score_model} for more balanced performance based on F1 Score.\")\n",
        "\n",
        "\n",
        "# Generate and print the detailed comparison report\n",
        "generate_detailed_comparison_report(models_results)\n"
      ],
      "metadata": {
        "id": "KjKdd7NDI2Pc",
        "outputId": "a38397bc-902f-4866-fcdd-ef7652fd30be",
        "colab": {
          "base_uri": "https://localhost:8080/"
        }
      },
      "id": "KjKdd7NDI2Pc",
      "execution_count": 22,
      "outputs": [
        {
          "output_type": "stream",
          "name": "stdout",
          "text": [
            "Model Comparison Report (Sorted by Accuracy):\n",
            "Model                               Accuracy (%)    Precision (%)   Recall (%)      F1 Score (%)   \n",
            "-----------------------------------------------------------------------------------------------\n",
            "One-vs-Rest Soft Margin SVM         94.17           89.29           89.29           89.29          \n",
            "Neural Network (NN)                 87.72           88.06           87.72           87.56          \n",
            "K-Nearest Neighbors (KNN)           84.79           85.06           84.79           84.67          \n",
            "Support Vector Machine (SVM)        84.70           84.69           84.70           84.63          \n",
            "Naive Bayes (NBC)                   58.32           63.85           58.32           55.29          \n",
            "One-vs-Rest Hard Margin SVM         42.50           86.36           67.86           76.00          \n",
            "\n",
            "Additional Insights:\n",
            "- The model with the highest accuracy is: One-vs-Rest Soft Margin SVM (Accuracy: 94.17%)\n",
            "- The model with the highest precision is: One-vs-Rest Soft Margin SVM (Precision: 89.29%)\n",
            "- The model with the highest recall is: One-vs-Rest Soft Margin SVM (Recall: 89.29%)\n",
            "- The model with the highest F1 score is: One-vs-Rest Soft Margin SVM (F1 Score: 89.29%)\n",
            "\n",
            "Summary: The One-vs-Rest Soft Margin SVM model is the best overall, achieving the highest accuracy and F1 score, indicating balanced performance.\n"
          ]
        }
      ]
    },
    {
      "cell_type": "code",
      "source": [],
      "metadata": {
        "id": "Avr7n873LXMW"
      },
      "id": "Avr7n873LXMW",
      "execution_count": null,
      "outputs": []
    }
  ],
  "metadata": {
    "kernelspec": {
      "display_name": "Python 3",
      "language": "python",
      "name": "python3"
    },
    "language_info": {
      "codemirror_mode": {
        "name": "ipython",
        "version": 2
      },
      "file_extension": ".py",
      "mimetype": "text/x-python",
      "name": "python",
      "nbconvert_exporter": "python",
      "pygments_lexer": "ipython2",
      "version": "2.7.6"
    },
    "colab": {
      "provenance": [],
      "include_colab_link": true
    }
  },
  "nbformat": 4,
  "nbformat_minor": 5
}